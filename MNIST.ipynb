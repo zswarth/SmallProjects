{
 "cells": [
  {
   "cell_type": "code",
   "execution_count": 74,
   "metadata": {},
   "outputs": [],
   "source": [
    "import numpy as np\n",
    "import matplotlib.pyplot as plt\n",
    "import random as rd\n",
    "data = np.loadtxt('train_MNIST.csv', dtype = str, delimiter = ',')\n"
   ]
  },
  {
   "cell_type": "code",
   "execution_count": 125,
   "metadata": {},
   "outputs": [],
   "source": [
    "y = np.asarray(data[1:, 0:1], dtype='float')\n",
    "X = np.asarray(data[1:,1:], dtype='float')\n",
    "\n",
    "\n",
    "def add_ones(x):\n",
    " \ta, b = np.shape(x)\n",
    "\tc = np.ones((a , 1))   \n",
    "\treturn np.hstack((c, x))\n",
    "\n",
    "X = add_ones(X)"
   ]
  },
  {
   "cell_type": "code",
   "execution_count": 126,
   "metadata": {},
   "outputs": [],
   "source": [
    "from sklearn.model_selection import train_test_split"
   ]
  },
  {
   "cell_type": "code",
   "execution_count": 127,
   "metadata": {},
   "outputs": [],
   "source": [
    "X_train, X_test, y_train, y_test = train_test_split(X, y, test_size=0.9, random_state=42)"
   ]
  },
  {
   "cell_type": "code",
   "execution_count": 128,
   "metadata": {},
   "outputs": [],
   "source": [
    "def img(row, data):\n",
    "\timage = np.zeros((28,28))\n",
    "\tfor i in range(0,28):\n",
    "\t\tfor j in range(0,28):\n",
    "\t\t\tpix = 28*i+j\n",
    "\t\t\timage[i,j] = data[row, pix]\n",
    "\tplt.imshow(image, cmap = 'gray')\n",
    "\tplt.show()\n",
    "\tprint data[row,0]"
   ]
  },
  {
   "cell_type": "code",
   "execution_count": 129,
   "metadata": {},
   "outputs": [],
   "source": []
  },
  {
   "cell_type": "code",
   "execution_count": 130,
   "metadata": {},
   "outputs": [
    {
     "data": {
      "image/png": "[encoded data removed]",
      "text/plain": [
       "<matplotlib.figure.Figure at 0x122eea190>"
      ]
     },
     "metadata": {},
     "output_type": "display_data"
    },
    {
     "name": "stdout",
     "output_type": "stream",
     "text": [
      "1.0\n"
     ]
    }
   ],
   "source": [
    "img(1, X_train)"
   ]
  },
  {
   "cell_type": "code",
   "execution_count": 144,
   "metadata": {},
   "outputs": [],
   "source": [
    "def create_weights(data):\n",
    "\ta, b = np.shape(data)\n",
    "\tweights = np.random.rand(b,1)\n",
    "\treturn weights\n",
    "\n",
    "weights = create_weights(X_train)"
   ]
  },
  {
   "cell_type": "code",
   "execution_count": 399,
   "metadata": {},
   "outputs": [],
   "source": [
    "def predict(data_point, weights):\n",
    "\tb = np.dot(data_point, weights)\n",
    "\ta = b>0\n",
    "\treturn a*1"
   ]
  },
  {
   "cell_type": "code",
   "execution_count": 400,
   "metadata": {},
   "outputs": [],
   "source": [
    "def one_number(labels, number):\n",
    "\treturn (labels == number)*1"
   ]
  },
  {
   "cell_type": "code",
   "execution_count": 408,
   "metadata": {},
   "outputs": [],
   "source": [
    "label_ones = one_number(y_train, 2)"
   ]
  },
  {
   "cell_type": "code",
   "execution_count": 448,
   "metadata": {},
   "outputs": [],
   "source": [
    "def update(weights, data_point, labels, alpha=.1):\n",
    "\tpredicted = predict(data_point, weights)\n",
    "#for i in range(0, len(weights)):\n",
    "\tweight_temp = np.zeros(np.shape(weights))\n",
    "\tweight_temp[:,0] = alpha*(labels-predicted)*data_point\n",
    "\treturn weight_temp+weights"
   ]
  },
  {
   "cell_type": "code",
   "execution_count": 449,
   "metadata": {},
   "outputs": [
    {
     "data": {
      "text/plain": [
       "(785, 1)"
      ]
     },
     "execution_count": 449,
     "metadata": {},
     "output_type": "execute_result"
    }
   ],
   "source": [
    "np.shape(update(weights, X_train[3], label_ones[3]))"
   ]
  },
  {
   "cell_type": "code",
   "execution_count": 460,
   "metadata": {},
   "outputs": [],
   "source": [
    "def train_perceptron(data, labels, weights, alpha = .1, iterations = 100):\n",
    "\tfor j in range(0, iterations):\n",
    "\t\tfor i in range(0, len(data)):\n",
    "\t\t\tweights = update(weights, data[i], labels[i], alpha)\n",
    "\treturn weights"
   ]
  },
  {
   "cell_type": "code",
   "execution_count": 461,
   "metadata": {},
   "outputs": [],
   "source": [
    "weights_new = train_perceptron(X_train, label_ones, weights, alpha = .1, iterations = 50)"
   ]
  },
  {
   "cell_type": "code",
   "execution_count": 560,
   "metadata": {},
   "outputs": [],
   "source": [
    "def test_perceptron(data, labels, weights):\n",
    "\ta, b = np.shape(data)\n",
    "\tcount = 0\n",
    "\tdetail = [0,0,0,0] #true pos, true neg, false pos, false neg.\n",
    "\tfor i in range(0, len(data)):\n",
    "\t\tpredicted = predict(data[i], weights)\n",
    "\t\tif labels[i] == 1:\n",
    "\t\t\tcount += 1 \n",
    "\t\t\tif predicted == labels[i]:\n",
    "\t\t\t\tdetail[0] += 1\n",
    "\t\t\telse: detail[2] +=1\n",
    "\t\tif labels[i] != 1:\n",
    "\t\t\tif predicted == labels[i]:\n",
    "\t\t\t\tdetail[1] += 1\n",
    "\t\t\telse: detail[3] +=1               \n",
    "\t\tpercentage = (float(detail[0]+detail[1]) / a) * 100\n",
    "\treturn count, percentage, \" Percentage Correct \", detail[0]/float(detail[0]+detail[3])*100, \" Pos Correct \", detail[1]/(float(detail[1]+detail[2]))*100, ' Neg Correct ', detail\n"
   ]
  },
  {
   "cell_type": "code",
   "execution_count": 579,
   "metadata": {},
   "outputs": [
    {
     "name": "stdout",
     "output_type": "stream",
     "text": [
      "[ 967.12929172]\n",
      "(785, 1)\n",
      "[ 1074.02929172]\n",
      "(785, 1)\n",
      "[ 1004.22929172]\n",
      "(785, 1)\n",
      "[ 1205.92929172]\n",
      "(785, 1)\n",
      "[ 946.32929172]\n",
      "(785, 1)\n",
      "[ 1137.62929172]\n",
      "(785, 1)\n",
      "[ 1060.72929172]\n",
      "(785, 1)\n",
      "[ 1044.52929172]\n",
      "(785, 1)\n",
      "[ 738.02929172]\n",
      "(785, 1)\n",
      "[ 1014.42929172]\n",
      "(785, 1)\n"
     ]
    }
   ],
   "source": [
    "\n",
    "for i in range(0,10):\n",
    "\tnum = i\n",
    "\tlabel_ones = one_number(y_train, num)\n",
    "\tweights_new = train_perceptron(X_train, label_ones, weights, alpha = .1, iterations =5)\n",
    "\tprint weights_new[100]\n",
    "\tlabel_test = one_number(y_test, num)\n",
    "\ta = test_perceptron(X_test, label_test, weights_new)\n",
    "\tprint np.shape(weights_new)"
   ]
  },
  {
   "cell_type": "code",
   "execution_count": 612,
   "metadata": {},
   "outputs": [],
   "source": [
    "def all_numbers(data,labels):\n",
    "\tc,d = np.shape(data)\n",
    "\tw = create_weights(data)\n",
    "\tweights = []\n",
    "\tfor i in range(0, 10):\n",
    "\t\tz = one_number(labels, i)\n",
    "\t\ta = train_perceptron(data, z, w, .1, 4)\n",
    "\t\tweights.append(a[:,0])\n",
    "\treturn np.asarray(weights)"
   ]
  },
  {
   "cell_type": "code",
   "execution_count": 613,
   "metadata": {},
   "outputs": [],
   "source": [
    "w = all_numbers(X_train, y_train)"
   ]
  },
  {
   "cell_type": "code",
   "execution_count": 614,
   "metadata": {},
   "outputs": [
    {
     "name": "stdout",
     "output_type": "stream",
     "text": [
      "(10, 785)\n"
     ]
    }
   ],
   "source": [
    "print np.shape(w)"
   ]
  },
  {
   "cell_type": "code",
   "execution_count": null,
   "metadata": {},
   "outputs": [],
   "source": []
  },
  {
   "cell_type": "code",
   "execution_count": 618,
   "metadata": {},
   "outputs": [
    {
     "name": "stdout",
     "output_type": "stream",
     "text": [
      "2\n",
      "[ 8.]\n",
      "1\n",
      "[ 1.]\n",
      "9\n",
      "[ 9.]\n",
      "9\n",
      "[ 9.]\n",
      "8\n",
      "[ 8.]\n",
      "2\n",
      "[ 6.]\n",
      "2\n",
      "[ 2.]\n",
      "2\n",
      "[ 2.]\n",
      "7\n",
      "[ 7.]\n",
      "1\n",
      "[ 1.]\n",
      "6\n",
      "[ 6.]\n",
      "3\n",
      "[ 3.]\n",
      "1\n",
      "[ 1.]\n",
      "2\n",
      "[ 2.]\n",
      "7\n",
      "[ 7.]\n",
      "2\n",
      "[ 4.]\n",
      "3\n",
      "[ 3.]\n",
      "6\n",
      "[ 3.]\n",
      "6\n",
      "[ 6.]\n",
      "4\n",
      "[ 4.]\n"
     ]
    }
   ],
   "source": [
    "def one_all(data_point, weights):\n",
    "\ta = np.dot(weights, data_point)\n",
    "\treturn np.argmax(a)\n",
    "\n",
    "\n",
    "for i in range(0,20):\n",
    "\tprint one_all(X_test[i], w)\n",
    "\tprint y_test[i]\n",
    "\n",
    "def answer(data, w):\n",
    "\tfor i in range(0, 20):\n",
    "\t\tfinal_answer = one_all(data[i], w) \n",
    "\t\tcompare = labels[i]\n",
    "\t\tprint final_answer, compare \n",
    "print answer(X_train, weights)\n",
    "\n",
    "# def test_function(data, w, labels):\n",
    "# \tfor i in range (0, 20):\n",
    "# \t\tx = 0\n",
    "# \t\tanswered = one_all(data[i], w)\n",
    "# \t\tif answered == labels[i]:\n",
    "# \t\t\tx += 1\n",
    "# \t\t\tpercentage = (float(x) / 20) * 100 #Wrong number here where \"20\" is...what should it be?\n",
    "# \t\treturn percentage\n",
    "# print test_function(X_train, weights, y_train), \"Percentage Correct\"\n",
    "\n",
    "\n"
   ]
  },
  {
   "cell_type": "code",
   "execution_count": null,
   "metadata": {},
   "outputs": [],
   "source": []
  }
 ],
 "metadata": {
  "kernelspec": {
   "display_name": "Python 2",
   "language": "python",
   "name": "python2"
  },
  "language_info": {
   "codemirror_mode": {
    "name": "ipython",
    "version": 2
   },
   "file_extension": ".py",
   "mimetype": "text/x-python",
   "name": "python",
   "nbconvert_exporter": "python",
   "pygments_lexer": "ipython2",
   "version": "2.7.13"
  }
 },
 "nbformat": 4,
 "nbformat_minor": 2
}
