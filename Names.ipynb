{
 "cells": [
  {
   "cell_type": "markdown",
   "metadata": {},
   "source": [
    "##Are Names Becoming More or Less Androgynous##\n",
    "\n",
    "I was sitting in a faculty meeting recently when a fellow teacher asked me whether or not I thought names in the modern era were becoming more or less androgynous. Not having any idea, I figured researching it would be a fun project to occupy my afternoon in meetings (a google search would also have answered the question, but where's the fun in that?).\n",
    "\n",
    "Quick answer: yes, it looks like names are becoming quite a bit more androgynous.\n",
    "\n",
    "You can find a link to the code and Jupyter notebook at github ### PUT IN REAL LINK HERE. All the data comes from the Social Security Administration's database of (almost) all baby names in the US from 1880. You can find it at: https://www.ssa.gov/oact/babynames/limits.html\n",
    "As a note, the social security database has every child classified as male or female."
   ]
  },
  {
   "cell_type": "code",
   "execution_count": 1,
   "metadata": {},
   "outputs": [],
   "source": [
    "import os\n",
    "import pandas as pd\n",
    "import matplotlib.pyplot as plt\n",
    "import numpy as np\n",
    "import scipy.stats as sci"
   ]
  },
  {
   "cell_type": "markdown",
   "metadata": {},
   "source": [
    "The data comes in a whole bunch of folders; I just put them in one DataFrame so they're easy to work with."
   ]
  },
  {
   "cell_type": "code",
   "execution_count": 2,
   "metadata": {},
   "outputs": [],
   "source": [
    "df = pd.DataFrame()\n",
    "\n",
    "for filename in os.listdir('names'):\n",
    "\tif filename[0:3] == 'yob':\n",
    "\t\tyear = filename[3:7]\n",
    "\t\tpath = 'names/'+filename\n",
    "\t\tdf2 = pd.read_csv(path,names=['Name','Sex','Number'])\n",
    "\t\tdf2['Year'] = int(year)\n",
    "\t\tdf = pd.concat([df, df2])"
   ]
  },
  {
   "cell_type": "code",
   "execution_count": 3,
   "metadata": {},
   "outputs": [],
   "source": [
    "year_min = df['Year'].min()\n",
    "year_max = df['Year'].max()"
   ]
  },
  {
   "cell_type": "markdown",
   "metadata": {},
   "source": [
    "Next I just wrote a few futions so we can easily grab data by year, sex, or name."
   ]
  },
  {
   "cell_type": "code",
   "execution_count": 4,
   "metadata": {},
   "outputs": [],
   "source": [
    "def year(x, data = df):\n",
    "    return data.loc[data['Year'] == x]\n",
    "\n",
    "def sex(x, data = df):\n",
    "    return data.loc[data['Sex'] == x]\n",
    "\n",
    "def name(x, data = df):\n",
    "    return data.loc[data['Name'] == x]\n",
    "\n",
    "def top_names(yr, data = df, number = 10):\n",
    "    a = sex('M')\n",
    "    b = sex('F')\n",
    "    top_10_M = year(yr, a)[0:number]\n",
    "    top_10_F = year(yr, b)[0:number]\n",
    "    return top_10_M, top_10_F"
   ]
  },
  {
   "cell_type": "code",
   "execution_count": 5,
   "metadata": {},
   "outputs": [
    {
     "name": "stdout",
     "output_type": "stream",
     "text": [
      "(         Name Sex  Number  Year\n",
      "7331    David   M   85928  1960\n",
      "7332  Michael   M   84183  1960\n",
      "7333    James   M   76842  1960\n",
      "7334     John   M   76096  1960\n",
      "7335   Robert   M   72369  1960\n",
      "7336     Mark   M   58731  1960\n",
      "7337  William   M   49354  1960\n",
      "7338  Richard   M   43561  1960\n",
      "7339   Thomas   M   39279  1960\n",
      "7340   Steven   M   33895  1960,        Name Sex  Number  Year\n",
      "0      Mary   F   51474  1960\n",
      "1     Susan   F   39200  1960\n",
      "2     Linda   F   37314  1960\n",
      "3     Karen   F   36376  1960\n",
      "4     Donna   F   34133  1960\n",
      "5      Lisa   F   33702  1960\n",
      "6  Patricia   F   32102  1960\n",
      "7     Debra   F   26737  1960\n",
      "8   Cynthia   F   26725  1960\n",
      "9   Deborah   F   25264  1960)\n"
     ]
    }
   ],
   "source": [
    "print top_names(1960)"
   ]
  },
  {
   "cell_type": "markdown",
   "metadata": {},
   "source": [
    "Just for curiosity's sake:"
   ]
  },
  {
   "cell_type": "code",
   "execution_count": 6,
   "metadata": {},
   "outputs": [
    {
     "data": {
      "text/plain": [
       "<matplotlib.collections.PathCollection at 0x10bf138d0>"
      ]
     },
     "execution_count": 6,
     "metadata": {},
     "output_type": "execute_result"
    },
    {
     "data": {
      "image/png": "[encoded data removed]",
      "text/plain": [
       "<matplotlib.figure.Figure at 0x10fda4d50>"
      ]
     },
     "metadata": {},
     "output_type": "display_data"
    }
   ],
   "source": [
    "a = name('Zachary', sex('M'))\n",
    "plt.scatter(a.Year, a.Number)"
   ]
  },
  {
   "cell_type": "markdown",
   "metadata": {},
   "source": [
    "Lets make a list of male and female names which have ever been in the top x places."
   ]
  },
  {
   "cell_type": "code",
   "execution_count": 7,
   "metadata": {},
   "outputs": [],
   "source": [
    "\n",
    "def all_top_names(top = 100):\n",
    "    male_names = sex('M', data = df)\n",
    "    female_names = sex('F', data = df)\n",
    "    nms_m = year(year_max, male_names)['Name'][0:top]\n",
    "    nms_f = year(year_max, female_names)['Name'][0:top]\n",
    "    for years in range(year_min, year_max):\n",
    "        nms_m = nms_m.append(year(years, male_names)['Name'][0:top]) \n",
    "        nms_f = nms_f.append(year(years,female_names)['Name'][0:top])\n",
    "    return nms_f.drop_duplicates().tolist(), nms_m.drop_duplicates().tolist()\n"
   ]
  },
  {
   "cell_type": "code",
   "execution_count": 8,
   "metadata": {},
   "outputs": [
    {
     "name": "stdout",
     "output_type": "stream",
     "text": [
      "Female ['Emma', 'Mary', 'Linda', 'Lisa', 'Jennifer', 'Jessica', 'Ashley', 'Emily', 'Isabella', 'Sophia']\n",
      "Male ['Liam', 'John', 'Robert', 'James', 'Michael', 'David', 'Jacob', 'Noah']\n"
     ]
    }
   ],
   "source": [
    "temp = all_top_names(top=1)\n",
    "print \"Female\", temp[0]\n",
    "print \"Male\", temp[1]"
   ]
  },
  {
   "cell_type": "markdown",
   "metadata": {},
   "source": [
    "It's a surprisingly small list of names that have ever held the #1 spot"
   ]
  },
  {
   "cell_type": "markdown",
   "metadata": {},
   "source": [
    "Now the goal was to see if names are becoming more androgynous.  To make a numerical value for this, I've assigned a percent score to each name: Total number of female occurrences out of total number of occurrences; and then see how far this percent score is from 50 (which would be an even split).\n",
    "\n",
    "0 = 100% of Names are assigned to 1 gender\n",
    "\n",
    "50 = 50/50 split of Names"
   ]
  },
  {
   "cell_type": "code",
   "execution_count": 9,
   "metadata": {},
   "outputs": [],
   "source": [
    "male_names = sex('M', data = df)\n",
    "female_names = sex('F', data = df)\n",
    "\n",
    "def is_androgynous(x):\n",
    "    male_occurences = name(x, male_names).Number.sum()\n",
    "    female_occurences = name(x, female_names).Number.sum()\n",
    "    total = male_occurences+female_occurences\n",
    "    return (50.0-np.absolute(50-(female_occurences)/float(total)*100))"
   ]
  },
  {
   "cell_type": "code",
   "execution_count": 10,
   "metadata": {},
   "outputs": [
    {
     "name": "stdout",
     "output_type": "stream",
     "text": [
      "0.0\n",
      "0.308202169483\n",
      "7.4086768525\n",
      "21.2075482005\n",
      "47.9108793308\n"
     ]
    }
   ],
   "source": [
    "print is_androgynous('Zach')\n",
    "print is_androgynous('Sarah')\n",
    "print is_androgynous('Harper')\n",
    "print is_androgynous('Lee')\n",
    "print is_androgynous('Riley')"
   ]
  },
  {
   "cell_type": "markdown",
   "metadata": {},
   "source": [
    "We can see names like 'Zach' are give almost 100% of the time to males, and names like \"Sarah\" are given almost 100% of the time to female, so they have a distance of 50 or close to it from an even split.\n",
    "\"Harper\" leans heavily female, but not exclusively.  Riley is pretty close to 50-50 (only 2% off)"
   ]
  },
  {
   "cell_type": "markdown",
   "metadata": {},
   "source": [
    "There are a number of ways we can define whether or not names have become more androgynous.  To start, let’s just take the weighted average of the top 10 names given each year."
   ]
  },
  {
   "cell_type": "code",
   "execution_count": 11,
   "metadata": {},
   "outputs": [],
   "source": [
    "top =all_top_names(top = 500)\n",
    "\n",
    "name_dict = {}\n",
    "for i in top[0]:\n",
    "    name_dict[i] = is_androgynous(i)\n",
    "for i in top[1]:\n",
    "    name_dict[i] = is_androgynous(i)"
   ]
  },
  {
   "cell_type": "code",
   "execution_count": 12,
   "metadata": {},
   "outputs": [],
   "source": [
    "\n",
    "total_score_m = []\n",
    "total_score_w = []\n",
    "data_male = sex('M')\n",
    "data_female = sex('F')\n",
    "\n",
    "\n",
    "number = 10\n",
    "\n",
    "for yr in range(year_min, year_max+1):\n",
    "    men = year(yr, data_male)[0:number]\n",
    "    women = year(yr, data_female)[0:number]\n",
    "\n",
    "    total_score = 0.0\n",
    "    n = 0.0\n",
    "    for i,j in zip(men['Name'], men['Number']):\n",
    "        total_score += name_dict[i]*j\n",
    "        n += j\n",
    "    total_score_m.append(total_score/n)\n",
    "\n",
    "for yr in range(year_min, year_max+1):\n",
    "    men = year(yr, data_male)[0:number]\n",
    "    women = year(yr, data_female)[0:number]\n",
    "\n",
    "    total_score = 0.0\n",
    "    n = 0.0\n",
    "    for i,j in zip(women['Name'], women['Number']):\n",
    "        total_score += name_dict[i]*j\n",
    "        n += j\n",
    "    total_score_w.append(total_score/n)\n",
    "   \n",
    "\n",
    "\n",
    "        "
   ]
  },
  {
   "cell_type": "code",
   "execution_count": 13,
   "metadata": {},
   "outputs": [
    {
     "data": {
      "image/png": "[encoded data removed]",
      "text/plain": [
       "<matplotlib.figure.Figure at 0x114b06d50>"
      ]
     },
     "metadata": {},
     "output_type": "display_data"
    },
    {
     "data": {
      "text/plain": [
       "<matplotlib.collections.PathCollection at 0x115378ad0>"
      ]
     },
     "execution_count": 13,
     "metadata": {},
     "output_type": "execute_result"
    },
    {
     "data": {
      "image/png": "[encoded data removed]",
      "text/plain": [
       "<matplotlib.figure.Figure at 0x114e1bf90>"
      ]
     },
     "metadata": {},
     "output_type": "display_data"
    }
   ],
   "source": [
    "years = range(1880,2018)\n",
    "\n",
    "plt.scatter((years), total_score_m, color = 'y')\n",
    "plt.show()\n",
    "plt.scatter((years), total_score_w)"
   ]
  },
  {
   "cell_type": "code",
   "execution_count": 14,
   "metadata": {},
   "outputs": [
    {
     "name": "stdout",
     "output_type": "stream",
     "text": [
      "(-0.81316176356016656, 3.8616291359693862e-27)\n"
     ]
    }
   ],
   "source": [
    "print sci.pearsonr(years[0:110], total_score_m[0:110])"
   ]
  },
  {
   "cell_type": "markdown",
   "metadata": {
    "collapsed": true
   },
   "source": [
    "Male:\n",
    "\n",
    "When we look at the first hundred and ten years, there's actually a pretty strong negative correlation (correlation coefficient of -.81).  Names in the top ten were becoming consistently less androgynous until 1990.  However, in the last 90s, and again in the early 2000s, something popped up into the top 10 that heavily changed the data.  Let’s find out what name that was.\n"
   ]
  },
  {
   "cell_type": "code",
   "execution_count": 15,
   "metadata": {},
   "outputs": [
    {
     "data": {
      "text/plain": [
       "<matplotlib.collections.PathCollection at 0x1154fcc50>"
      ]
     },
     "execution_count": 15,
     "metadata": {},
     "output_type": "execute_result"
    },
    {
     "data": {
      "image/png": "[encoded data removed]",
      "text/plain": [
       "<matplotlib.figure.Figure at 0x11548d110>"
      ]
     },
     "metadata": {},
     "output_type": "display_data"
    }
   ],
   "source": [
    "plt.scatter(range(1990,2018), total_score_m[-28:])"
   ]
  },
  {
   "cell_type": "code",
   "execution_count": 16,
   "metadata": {},
   "outputs": [
    {
     "name": "stdout",
     "output_type": "stream",
     "text": [
      "1992 Tyler 2.73367520229\n",
      "1993 Tyler 2.73367520229\n",
      "1994 Tyler 2.73367520229\n",
      "1995 Tyler 2.73367520229\n",
      "1995 Austin 1.10437455571\n",
      "1996 Tyler 2.73367520229\n",
      "1996 Austin 1.10437455571\n",
      "1997 Austin 1.10437455571\n",
      "1997 Tyler 2.73367520229\n",
      "1998 Tyler 2.73367520229\n",
      "1998 Austin 1.10437455571\n",
      "1999 Tyler 2.73367520229\n",
      "2000 Tyler 2.73367520229\n",
      "2009 Jayden 9.421940034\n",
      "2010 Jayden 9.421940034\n",
      "2011 Mason 1.03221233247\n",
      "2011 Jayden 9.421940034\n",
      "2012 Mason 1.03221233247\n",
      "2012 Jayden 9.421940034\n",
      "2013 Mason 1.03221233247\n",
      "2013 Jayden 9.421940034\n",
      "2014 Mason 1.03221233247\n",
      "2015 Mason 1.03221233247\n",
      "2016 Mason 1.03221233247\n",
      "2017 Logan 7.08178088348\n",
      "2017 Mason 1.03221233247\n"
     ]
    }
   ],
   "source": [
    "number = 10\n",
    "\n",
    "for yr in range(1880, year_max+1):\n",
    "    men = year(yr, data_male)[0:number]\n",
    "    for i in men['Name']:\n",
    "        if name_dict[i]>1:\n",
    "            print yr, i, name_dict[i]"
   ]
  },
  {
   "cell_type": "markdown",
   "metadata": {},
   "source": [
    "It looks like in the 90s, the names Tyler and Austin came and went in the top 10.\n",
    "In 2011, the name Jayden, with a 9.4% ranking (and Mason with a 1.03) started pushing up the total.\n",
    "In 2017, Logan entered the top 10 with a 7.08%.\n",
    "\n"
   ]
  },
  {
   "cell_type": "markdown",
   "metadata": {},
   "source": [
    "Female:"
   ]
  },
  {
   "cell_type": "code",
   "execution_count": 17,
   "metadata": {},
   "outputs": [
    {
     "data": {
      "text/plain": [
       "<matplotlib.collections.PathCollection at 0x115762bd0>"
      ]
     },
     "execution_count": 17,
     "metadata": {},
     "output_type": "execute_result"
    },
    {
     "data": {
      "image/png": "[encoded data removed]",
      "text/plain": [
       "<matplotlib.figure.Figure at 0x115676e50>"
      ]
     },
     "metadata": {},
     "output_type": "display_data"
    }
   ],
   "source": [
    "plt.scatter((years), total_score_w)"
   ]
  },
  {
   "cell_type": "code",
   "execution_count": 18,
   "metadata": {},
   "outputs": [
    {
     "name": "stdout",
     "output_type": "stream",
     "text": [
      "(-0.12136868411036088, 0.25448301821697905)\n"
     ]
    }
   ],
   "source": [
    "print sci.pearsonr(years[0:90], total_score_w[0:90])"
   ]
  },
  {
   "cell_type": "markdown",
   "metadata": {},
   "source": [
    "Very little correlation at all for the first 90 years; little bounce in the 30s.  But in about 1970, a few names start popping up that alter the score."
   ]
  },
  {
   "cell_type": "code",
   "execution_count": 39,
   "metadata": {},
   "outputs": [
    {
     "name": "stdout",
     "output_type": "stream",
     "text": [
      "1880 Jessie 39.7156336518\n",
      "1881 Jessie 39.7156336518\n",
      "1881 Pearl 2.45030628829\n",
      "1882 Pearl 2.45030628829\n",
      "1882 Jessie 39.7156336518\n",
      "1883 Pearl 2.45030628829\n",
      "1883 Jessie 39.7156336518\n",
      "1884 Pearl 2.45030628829\n",
      "1885 Pearl 2.45030628829\n",
      "1885 Jessie 39.7156336518\n",
      "1886 Pearl 2.45030628829\n",
      "1887 Pearl 2.45030628829\n",
      "1888 Pearl 2.45030628829\n",
      "1889 Pearl 2.45030628829\n",
      "1890 Pearl 2.45030628829\n",
      "1891 Pearl 2.45030628829\n",
      "1892 Pearl 2.45030628829\n",
      "1893 Pearl 2.45030628829\n",
      "1894 Pearl 2.45030628829\n",
      "1895 Pearl 2.45030628829\n",
      "1896 Pearl 2.45030628829\n",
      "1897 Pearl 2.45030628829\n",
      "1898 Pearl 2.45030628829\n",
      "1899 Pearl 2.45030628829\n",
      "1900 Pearl 2.45030628829\n",
      "1901 Pearl 2.45030628829\n",
      "1902 Pearl 2.45030628829\n",
      "1903 Pearl 2.45030628829\n",
      "1904 Pearl 2.45030628829\n",
      "1905 Pearl 2.45030628829\n",
      "1906 Pearl 2.45030628829\n",
      "1907 Pearl 2.45030628829\n",
      "1908 Pearl 2.45030628829\n",
      "1909 Pearl 2.45030628829\n",
      "1910 Pearl 2.45030628829\n",
      "1917 Jean 4.95343052782\n",
      "1918 Jean 4.95343052782\n",
      "1919 Jean 4.95343052782\n",
      "1920 Jean 4.95343052782\n",
      "1921 Jean 4.95343052782\n",
      "1922 Jean 4.95343052782\n",
      "1923 Jean 4.95343052782\n",
      "1924 Jean 4.95343052782\n",
      "1925 Jean 4.95343052782\n",
      "1926 Jean 4.95343052782\n",
      "1927 Jean 4.95343052782\n",
      "1928 Jean 4.95343052782\n",
      "1929 Jean 4.95343052782\n",
      "1930 Jean 4.95343052782\n",
      "1931 Jean 4.95343052782\n",
      "1932 Jean 4.95343052782\n",
      "1933 Jean 4.95343052782\n",
      "1934 Jean 4.95343052782\n",
      "1935 Jean 4.95343052782\n",
      "1936 Jean 4.95343052782\n",
      "1937 Jean 4.95343052782\n",
      "1938 Jean 4.95343052782\n",
      "1939 Jean 4.95343052782\n",
      "1940 Jean 4.95343052782\n",
      "1941 Jean 4.95343052782\n",
      "1942 Jean 4.95343052782\n",
      "1943 Jean 4.95343052782\n",
      "1944 Jean 4.95343052782\n",
      "1945 Jean 4.95343052782\n",
      "1946 Jean 4.95343052782\n",
      "1947 Jean 4.95343052782\n",
      "1951 Gail 4.25126692599\n",
      "1952 Gail 4.25126692599\n",
      "1953 Gail 4.25126692599\n",
      "1954 Gail 4.25126692599\n",
      "1954 Connie 2.54535607907\n",
      "1955 Robin 13.3576439099\n",
      "1955 Connie 2.54535607907\n",
      "1956 Robin 13.3576439099\n",
      "1956 Kim 16.2680474891\n",
      "1957 Robin 13.3576439099\n",
      "1957 Kim 16.2680474891\n",
      "1958 Robin 13.3576439099\n",
      "1958 Kim 16.2680474891\n",
      "1959 Robin 13.3576439099\n",
      "1959 Kim 16.2680474891\n",
      "1960 Robin 13.3576439099\n",
      "1960 Kim 16.2680474891\n",
      "1961 Robin 13.3576439099\n",
      "1961 Kim 16.2680474891\n",
      "1962 Robin 13.3576439099\n",
      "1962 Kim 16.2680474891\n",
      "1962 Kelly 14.758204331\n",
      "1963 Robin 13.3576439099\n",
      "1963 Kelly 14.758204331\n",
      "1963 Kim 16.2680474891\n",
      "1964 Robin 13.3576439099\n",
      "1964 Kelly 14.758204331\n",
      "1964 Tracy 19.6078682807\n",
      "1965 Kelly 14.758204331\n",
      "1965 Robin 13.3576439099\n",
      "1965 Tracy 19.6078682807\n",
      "1966 Kelly 14.758204331\n",
      "1966 Tracy 19.6078682807\n",
      "1967 Kelly 14.758204331\n",
      "1967 Tracy 19.6078682807\n",
      "1968 Kelly 14.758204331\n",
      "1968 Tracy 19.6078682807\n",
      "1969 Kelly 14.758204331\n",
      "1969 Tracy 19.6078682807\n",
      "1969 Shannon 14.9727223446\n",
      "1970 Tracy 19.6078682807\n",
      "1970 Kelly 14.758204331\n",
      "1970 Shannon 14.9727223446\n",
      "1971 Tracy 19.6078682807\n",
      "1971 Shannon 14.9727223446\n",
      "1971 Kelly 14.758204331\n",
      "1971 Stacy 11.9792314557\n",
      "1972 Tracy 19.6078682807\n",
      "1972 Shannon 14.9727223446\n",
      "1972 Kelly 14.758204331\n",
      "1972 Stacy 11.9792314557\n",
      "1973 Kelly 14.758204331\n",
      "1973 Tracy 19.6078682807\n",
      "1973 Shannon 14.9727223446\n",
      "1973 Stacy 11.9792314557\n",
      "1974 Kelly 14.758204331\n",
      "1974 Shannon 14.9727223446\n",
      "1974 Tracy 19.6078682807\n",
      "1974 Stacy 11.9792314557\n",
      "1975 Kelly 14.758204331\n",
      "1975 Shannon 14.9727223446\n",
      "1975 Tracy 19.6078682807\n",
      "1975 Stacy 11.9792314557\n",
      "1975 Erin 2.86653010603\n",
      "1976 Shannon 14.9727223446\n",
      "1976 Jamie 24.1710069198\n",
      "1976 Kelly 14.758204331\n",
      "1976 Erin 2.86653010603\n",
      "1976 Jaime 42.3632254488\n",
      "1976 Tracy 19.6078682807\n",
      "1976 Stacy 11.9792314557\n",
      "1977 Kelly 14.758204331\n",
      "1977 Jamie 24.1710069198\n",
      "1977 Shannon 14.9727223446\n",
      "1977 Erin 2.86653010603\n",
      "1978 Kelly 14.758204331\n",
      "1978 Jamie 24.1710069198\n",
      "1978 Erin 2.86653010603\n",
      "1978 Shannon 14.9727223446\n",
      "1978 Brandy 2.06778190945\n",
      "1979 Kelly 14.758204331\n",
      "1979 Jamie 24.1710069198\n",
      "1979 Erin 2.86653010603\n",
      "1979 Shannon 14.9727223446\n",
      "1979 Brandy 2.06778190945\n",
      "1980 Kelly 14.758204331\n",
      "1980 Erin 2.86653010603\n",
      "1980 Jamie 24.1710069198\n",
      "1980 Shannon 14.9727223446\n",
      "1981 Erin 2.86653010603\n",
      "1981 Kelly 14.758204331\n",
      "1981 Jamie 24.1710069198\n",
      "1981 Shannon 14.9727223446\n",
      "1982 Erin 2.86653010603\n",
      "1982 Kelly 14.758204331\n",
      "1982 Jamie 24.1710069198\n",
      "1982 Shannon 14.9727223446\n",
      "1982 Lindsay 3.81401296616\n",
      "1982 Lindsey 4.70924293675\n",
      "1983 Erin 2.86653010603\n",
      "1983 Kelly 14.758204331\n",
      "1983 Jamie 24.1710069198\n",
      "1983 Lindsey 4.70924293675\n",
      "1983 Lindsay 3.81401296616\n",
      "1983 Shannon 14.9727223446\n",
      "1984 Erin 2.86653010603\n",
      "1984 Kelly 14.758204331\n",
      "1984 Jamie 24.1710069198\n",
      "1984 Lindsey 4.70924293675\n",
      "1984 Lindsay 3.81401296616\n",
      "1984 Shannon 14.9727223446\n",
      "1985 Erin 2.86653010603\n",
      "1985 Jamie 24.1710069198\n",
      "1985 Kelly 14.758204331\n",
      "1985 Lindsey 4.70924293675\n",
      "1985 Lindsay 3.81401296616\n",
      "1986 Kelly 14.758204331\n",
      "1986 Erin 2.86653010603\n",
      "1986 Whitney 5.80295964745\n",
      "1986 Jamie 24.1710069198\n",
      "1986 Courtney 8.08086942853\n",
      "1986 Lindsey 4.70924293675\n",
      "1987 Kelly 14.758204331\n",
      "1987 Whitney 5.80295964745\n",
      "1987 Courtney 8.08086942853\n",
      "1987 Erin 2.86653010603\n",
      "1987 Jamie 24.1710069198\n",
      "1988 Courtney 8.08086942853\n",
      "1988 Kelly 14.758204331\n",
      "1988 Erin 2.86653010603\n",
      "1988 Whitney 5.80295964745\n",
      "1989 Courtney 8.08086942853\n",
      "1989 Kelsey 3.43807568124\n",
      "1989 Kelly 14.758204331\n",
      "1989 Erin 2.86653010603\n",
      "1990 Courtney 8.08086942853\n",
      "1990 Kelsey 3.43807568124\n",
      "1991 Courtney 8.08086942853\n",
      "1991 Kelsey 3.43807568124\n",
      "1991 Taylor 25.6790746819\n",
      "1991 Shelby 10.0427377051\n",
      "1992 Taylor 25.6790746819\n",
      "1992 Courtney 8.08086942853\n",
      "1992 Kelsey 3.43807568124\n",
      "1992 Shelby 10.0427377051\n",
      "1992 Alexis 15.7496790147\n",
      "1993 Taylor 25.6790746819\n",
      "1993 Courtney 8.08086942853\n",
      "1993 Kelsey 3.43807568124\n",
      "1993 Alexis 15.7496790147\n",
      "1993 Morgan 16.5000923593\n",
      "1993 Shelby 10.0427377051\n",
      "1994 Taylor 25.6790746819\n",
      "1994 Alexis 15.7496790147\n",
      "1994 Courtney 8.08086942853\n",
      "1994 Morgan 16.5000923593\n",
      "1994 Kelsey 3.43807568124\n",
      "1994 Shelby 10.0427377051\n",
      "1995 Taylor 25.6790746819\n",
      "1995 Alexis 15.7496790147\n",
      "1995 Courtney 8.08086942853\n",
      "1995 Morgan 16.5000923593\n",
      "1995 Kelsey 3.43807568124\n",
      "1995 Shelby 10.0427377051\n",
      "1996 Taylor 25.6790746819\n",
      "1996 Alexis 15.7496790147\n",
      "1996 Courtney 8.08086942853\n",
      "1996 Morgan 16.5000923593\n",
      "1996 Shelby 10.0427377051\n",
      "1996 Kelsey 3.43807568124\n",
      "1996 Sydney 5.1520888979\n",
      "1997 Taylor 25.6790746819\n",
      "1997 Alexis 15.7496790147\n",
      "1997 Morgan 16.5000923593\n",
      "1997 Courtney 8.08086942853\n",
      "1997 Sydney 5.1520888979\n",
      "1997 Jordan 26.0366511103\n",
      "1998 Alexis 15.7496790147\n",
      "1998 Taylor 25.6790746819\n",
      "1998 Morgan 16.5000923593\n",
      "1998 Sydney 5.1520888979\n",
      "1998 Courtney 8.08086942853\n",
      "1999 Alexis 15.7496790147\n",
      "1999 Taylor 25.6790746819\n",
      "1999 Sydney 5.1520888979\n",
      "1999 Morgan 16.5000923593\n",
      "2000 Alexis 15.7496790147\n",
      "2000 Taylor 25.6790746819\n",
      "2000 Sydney 5.1520888979\n",
      "2000 Morgan 16.5000923593\n",
      "2001 Alexis 15.7496790147\n",
      "2001 Taylor 25.6790746819\n",
      "2001 Sydney 5.1520888979\n",
      "2001 Morgan 16.5000923593\n",
      "2001 Mackenzie 5.55256391782\n",
      "2002 Alexis 15.7496790147\n",
      "2002 Taylor 25.6790746819\n",
      "2002 Sydney 5.1520888979\n",
      "2002 Morgan 16.5000923593\n",
      "2003 Alexis 15.7496790147\n",
      "2003 Taylor 25.6790746819\n",
      "2003 Sydney 5.1520888979\n",
      "2003 Morgan 16.5000923593\n",
      "2004 Alexis 15.7496790147\n",
      "2004 Taylor 25.6790746819\n",
      "2004 Sydney 5.1520888979\n",
      "2004 Morgan 16.5000923593\n",
      "2005 Alexis 15.7496790147\n",
      "2005 Taylor 25.6790746819\n",
      "2005 Sydney 5.1520888979\n",
      "2005 Morgan 16.5000923593\n",
      "2006 Alexis 15.7496790147\n",
      "2006 Taylor 25.6790746819\n",
      "2006 Addison 9.90469100187\n",
      "2006 Sydney 5.1520888979\n",
      "2006 Morgan 16.5000923593\n",
      "2007 Addison 9.90469100187\n",
      "2007 Alexis 15.7496790147\n",
      "2007 Taylor 25.6790746819\n",
      "2007 Sydney 5.1520888979\n",
      "2008 Addison 9.90469100187\n",
      "2008 Alexis 15.7496790147\n",
      "2008 Taylor 25.6790746819\n",
      "2008 Avery 31.2413897775\n",
      "2008 Riley 47.9108793308\n",
      "2009 Addison 9.90469100187\n",
      "2009 Alexis 15.7496790147\n",
      "2009 Taylor 25.6790746819\n",
      "2009 Avery 31.2413897775\n",
      "2009 Riley 47.9108793308\n",
      "2010 Addison 9.90469100187\n",
      "2010 Alexis 15.7496790147\n",
      "2010 Avery 31.2413897775\n",
      "2010 Taylor 25.6790746819\n",
      "2010 Riley 47.9108793308\n",
      "2011 Addison 9.90469100187\n",
      "2011 Avery 31.2413897775\n",
      "2011 Aubrey 22.0376279019\n",
      "2011 Alexis 15.7496790147\n",
      "2012 Avery 31.2413897775\n",
      "2012 Addison 9.90469100187\n",
      "2012 Aubrey 22.0376279019\n",
      "2012 Harper 7.4086768525\n",
      "2012 Alexis 15.7496790147\n",
      "2013 Avery 31.2413897775\n",
      "2013 Harper 7.4086768525\n",
      "2013 Aubrey 22.0376279019\n",
      "2013 Addison 9.90469100187\n",
      "2014 Harper 7.4086768525\n",
      "2014 Avery 31.2413897775\n",
      "2014 Aubrey 22.0376279019\n",
      "2014 Addison 9.90469100187\n",
      "2015 Harper 7.4086768525\n",
      "2015 Avery 31.2413897775\n",
      "2015 Aubrey 22.0376279019\n",
      "2015 Addison 9.90469100187\n",
      "2015 Riley 47.9108793308\n",
      "2016 Harper 7.4086768525\n",
      "2016 Avery 31.2413897775\n",
      "2016 Riley 47.9108793308\n",
      "2016 Aubrey 22.0376279019\n",
      "2016 Addison 9.90469100187\n",
      "2017 Harper 7.4086768525\n",
      "2017 Avery 31.2413897775\n",
      "2017 Riley 47.9108793308\n",
      "2017 Aubrey 22.0376279019\n",
      "2017 Addison 9.90469100187\n"
     ]
    }
   ],
   "source": [
    "number = 40\n",
    "\n",
    "for yr in range(1880, year_max+1):\n",
    "    female = year(yr, data_female)[0:number]\n",
    "    for i in female['Name']:\n",
    "        if name_dict[i]>2:\n",
    "            print yr, i, name_dict[i]"
   ]
  },
  {
   "cell_type": "markdown",
   "metadata": {},
   "source": [
    "There are a lot more androgenous names on the female top 10 list.\n",
    "1970: Tracy (80%)\n",
    "1977: Kelly (85%)\n",
    "1993-2000: Taylor: (74%)\n",
    "1996-2003: Alexis (84%)\n",
    "2015-2016: Harper (92%)"
   ]
  },
  {
   "cell_type": "markdown",
   "metadata": {},
   "source": [
    "Top 100 Names:"
   ]
  },
  {
   "cell_type": "code",
   "execution_count": 20,
   "metadata": {},
   "outputs": [
    {
     "data": {
      "text/plain": [
       "<matplotlib.collections.PathCollection at 0x11576e450>"
      ]
     },
     "execution_count": 20,
     "metadata": {},
     "output_type": "execute_result"
    },
    {
     "data": {
      "image/png": "[encoded data removed]",
      "text/plain": [
       "<matplotlib.figure.Figure at 0x10b362f50>"
      ]
     },
     "metadata": {},
     "output_type": "display_data"
    }
   ],
   "source": [
    "total_score_m_100 = []\n",
    "total_score_w_100 = []\n",
    "data_male = sex('M')\n",
    "data_female = sex('F')\n",
    "\n",
    "\n",
    "number = 100\n",
    "\n",
    "for yr in range(year_min, year_max+1):\n",
    "    men = year(yr, data_male)[0:number]\n",
    "    women = year(yr, data_female)[0:number]\n",
    "\n",
    "    total_score = 0.0\n",
    "    n = 0.0\n",
    "    for i,j in zip(men['Name'], men['Number']):\n",
    "        total_score += name_dict[i]*j\n",
    "        n += j\n",
    "    total_score_m_100.append(total_score/n)\n",
    "\n",
    "for yr in range(year_min, year_max+1):\n",
    "    men = year(yr, data_male)[0:number]\n",
    "    women = year(yr, data_female)[0:number]\n",
    "\n",
    "    total_score = 0.0\n",
    "    n = 0.0\n",
    "    for i,j in zip(women['Name'], women['Number']):\n",
    "        total_score += name_dict[i]*j\n",
    "        n += j\n",
    "    total_score_w_100.append(total_score/n)\n",
    "   \n",
    "\n",
    "plt.scatter((years), total_score_w_100, color='g')\n",
    "plt.scatter((years), total_score_m_100, color= 'c')"
   ]
  },
  {
   "cell_type": "markdown",
   "metadata": {},
   "source": [
    "A bit of a different story when we look at the top 100 names.  With men, still a big increase starting in the 1980s, but there was also a peak in the early part of the century.  With women, the encrease really started in the 1950s."
   ]
  },
  {
   "cell_type": "markdown",
   "metadata": {},
   "source": [
    "If we up the number to the top 500 of each year, we are sampling about 80% of the population born each year."
   ]
  },
  {
   "cell_type": "code",
   "execution_count": 21,
   "metadata": {},
   "outputs": [],
   "source": [
    "total_score_m_500 = []\n",
    "total_score_w_500 = []\n",
    "data_male = sex('M')\n",
    "data_female = sex('F')\n",
    "\n",
    "\n",
    "number = 500\n",
    "\n",
    "for yr in range(year_min, year_max+1):\n",
    "    men = year(yr, data_male)[0:number]\n",
    "    women = year(yr, data_female)[0:number]\n",
    "\n",
    "    total_score = 0.0\n",
    "    n = 0.0\n",
    "    for i,j in zip(men['Name'], men['Number']):\n",
    "        total_score += name_dict[i]*j\n",
    "        n += j\n",
    "    total_score_m_500.append(total_score/n)\n",
    "\n",
    "for yr in range(year_min, year_max+1):\n",
    "    men = year(yr, data_male)[0:number]\n",
    "    women = year(yr, data_female)[0:number]\n",
    "\n",
    "    total_score = 0.0\n",
    "    n = 0.0\n",
    "    for i,j in zip(women['Name'], women['Number']):\n",
    "        total_score += name_dict[i]*j\n",
    "        n += j\n",
    "    total_score_w_500.append(total_score/n)"
   ]
  },
  {
   "cell_type": "code",
   "execution_count": 22,
   "metadata": {},
   "outputs": [
    {
     "data": {
      "text/plain": [
       "<matplotlib.collections.PathCollection at 0x115787b10>"
      ]
     },
     "execution_count": 22,
     "metadata": {},
     "output_type": "execute_result"
    },
    {
     "data": {
      "image/png": "[encoded data removed]",
      "text/plain": [
       "<matplotlib.figure.Figure at 0x115787a10>"
      ]
     },
     "metadata": {},
     "output_type": "display_data"
    }
   ],
   "source": [
    "plt.scatter(years, total_score_m_500, color = 'g')\n",
    "plt.scatter(years, total_score_w_500, color = 'c')"
   ]
  },
  {
   "cell_type": "markdown",
   "metadata": {},
   "source": [
    "Trend seems pretty clear (although I'm not really quantifying how clear statistically).\n",
    "\n",
    "The next thing to look at is if the names were androgenous is the year they were given (i.e., a name may be completly given to one gender in 1900, but to both geners in 2000)."
   ]
  },
  {
   "cell_type": "code",
   "execution_count": 23,
   "metadata": {},
   "outputs": [],
   "source": [
    "male_names = sex('M', data = df)\n",
    "female_names = sex('F', data = df)\n",
    "\n",
    "def is_androgynous_year(x):\n",
    "    results = {}\n",
    "    for i in range(1880, 2018):\n",
    "        male_occurences = name(x, year(i, male_names)).Number.sum()\n",
    "        female_occurences = name(x, year(i,female_names)).Number.sum()\n",
    "        total = male_occurences+female_occurences\n",
    "        if total != 0:\n",
    "            results[i] = (50.0-np.absolute(50-(female_occurences)/float(total)*100))\n",
    "        else:\n",
    "            results[i] = False\n",
    "    return results\n"
   ]
  },
  {
   "cell_type": "code",
   "execution_count": 24,
   "metadata": {},
   "outputs": [],
   "source": [
    "a = is_androgynous_year('Zachary')"
   ]
  },
  {
   "cell_type": "code",
   "execution_count": 25,
   "metadata": {},
   "outputs": [],
   "source": [
    "top =all_top_names(top = 500)\n",
    "\n",
    "name_dict_year = {}\n",
    "for i in top[0]:\n",
    "    name_dict_year[i] = is_androgynous_year(i)\n",
    "for i in top[1]:\n",
    "    name_dict_year[i] = is_androgynous_year(i)"
   ]
  },
  {
   "cell_type": "code",
   "execution_count": 35,
   "metadata": {},
   "outputs": [],
   "source": [
    "score_men_year = []\n",
    "score_women_year = []\n",
    "data_male = sex('M')\n",
    "data_female = sex('F')\n",
    "\n",
    "\n",
    "number = 500\n",
    "\n",
    "for yr in range(year_min, year_max+1):\n",
    "    men = year(yr, data_male)[0:number]\n",
    "\n",
    "    total_score = 0.0\n",
    "    n = 0.0\n",
    "    for i,j in zip(men['Name'], men['Number']):\n",
    "        total_score += name_dict_year[i][yr]*j\n",
    "        n += j\n",
    "    score_men_year.append(total_score/n)\n",
    "\n",
    "for yr in range(year_min, year_max+1):\n",
    "    women = year(yr, data_female)[0:number]\n",
    "\n",
    "    total_score = 0.0\n",
    "    n = 0.0\n",
    "    for i,j in zip(women['Name'], women['Number']):\n",
    "        total_score += name_dict_year[i][yr]*j\n",
    "        n += j\n",
    "    score_women_year.append(total_score/n)"
   ]
  },
  {
   "cell_type": "code",
   "execution_count": 34,
   "metadata": {},
   "outputs": [
    {
     "data": {
      "text/plain": [
       "<matplotlib.collections.PathCollection at 0x1163eee90>"
      ]
     },
     "execution_count": 34,
     "metadata": {},
     "output_type": "execute_result"
    },
    {
     "data": {
      "image/png": "[encoded data removed]",
      "text/plain": [
       "<matplotlib.figure.Figure at 0x1163eeed0>"
      ]
     },
     "metadata": {},
     "output_type": "display_data"
    }
   ],
   "source": [
    "plt.scatter(years, total_score_m_500, color = 'g')\n",
    "plt.scatter(years, score_men_year, color = 'b')"
   ]
  },
  {
   "cell_type": "code",
   "execution_count": 40,
   "metadata": {},
   "outputs": [
    {
     "data": {
      "text/plain": [
       "<matplotlib.collections.PathCollection at 0x116a04b50>"
      ]
     },
     "execution_count": 40,
     "metadata": {},
     "output_type": "execute_result"
    },
    {
     "data": {
      "image/png": "[encoded data removed]",
      "text/plain": [
       "<matplotlib.figure.Figure at 0x116ffc9d0>"
      ]
     },
     "metadata": {},
     "output_type": "display_data"
    }
   ],
   "source": [
    "plt.scatter(years, score_women_year, color = 'b')\n",
    "plt.scatter(years, total_score_w_500, color = 'g')"
   ]
  },
  {
   "cell_type": "markdown",
   "metadata": {},
   "source": [
    "Either way, there doesnt seem to be a big change in the overall shape of the charts.  But what's intersting, is specific names often have a large change over time."
   ]
  },
  {
   "cell_type": "code",
   "execution_count": 52,
   "metadata": {},
   "outputs": [
    {
     "data": {
      "text/plain": [
       "<matplotlib.collections.PathCollection at 0x116fbf7d0>"
      ]
     },
     "execution_count": 52,
     "metadata": {},
     "output_type": "execute_result"
    },
    {
     "data": {
      "image/png": "[encoded data removed]",
      "text/plain": [
       "<matplotlib.figure.Figure at 0x116eead90>"
      ]
     },
     "metadata": {},
     "output_type": "display_data"
    }
   ],
   "source": [
    "a = name_dict_year['Ryan']\n",
    "plt.scatter(list(a.keys()), list(a.values()))"
   ]
  },
  {
   "cell_type": "code",
   "execution_count": 53,
   "metadata": {},
   "outputs": [
    {
     "data": {
      "text/plain": [
       "<matplotlib.collections.PathCollection at 0x11730e290>"
      ]
     },
     "execution_count": 53,
     "metadata": {},
     "output_type": "execute_result"
    },
    {
     "data": {
      "image/png": "[encoded data removed]",
      "text/plain": [
       "<matplotlib.figure.Figure at 0x117199650>"
      ]
     },
     "metadata": {},
     "output_type": "display_data"
    }
   ],
   "source": [
    "a = name_dict_year['Sarah']\n",
    "plt.scatter(list(a.keys()), list(a.values()))"
   ]
  },
  {
   "cell_type": "code",
   "execution_count": 55,
   "metadata": {},
   "outputs": [
    {
     "data": {
      "text/plain": [
       "<matplotlib.collections.PathCollection at 0x1175a2e10>"
      ]
     },
     "execution_count": 55,
     "metadata": {},
     "output_type": "execute_result"
    },
    {
     "data": {
      "image/png": "[encoded data removed]",
      "text/plain": [
       "<matplotlib.figure.Figure at 0x1174ce550>"
      ]
     },
     "metadata": {},
     "output_type": "display_data"
    }
   ],
   "source": [
    "a = name_dict_year['Ashley']\n",
    "plt.scatter(list(a.keys()), list(a.values()))"
   ]
  },
  {
   "attachments": {},
   "cell_type": "markdown",
   "metadata": {},
   "source": [
    "I've got to be a little bit careful in interpreting these graphs for 2 reasons:\n",
    "1) may of the 0 values may be because the names didn't appear in the top 500 during certain years, so the program didn’t' process them\n",
    "2) The score tells how androgynous the name is -- not which way it leans.  So this last curve (\"Ashley\", if I were to guess based on the fact that graph goes to 50 - that what actually happened was it was primarily a male name, and slowly became a female name (as a google search confirmed)\n",
    "\n"
   ]
  },
  {
   "cell_type": "markdown",
   "metadata": {},
   "source": [
    "Either way, this was a fun little exploration.\n"
   ]
  }
 ],
 "metadata": {
  "front-matter": {
   "date": "2018-09-22",
   "slug": "names",
   "subtitle": "Generic subtitle",
   "title": "Names"
  },
  "hugo-jupyter": {
   "render-to": "content/post/"
  },
  "kernelspec": {
   "display_name": "Python 2",
   "language": "python",
   "name": "python2"
  },
  "language_info": {
   "codemirror_mode": {
    "name": "ipython",
    "version": 2
   },
   "file_extension": ".py",
   "mimetype": "text/x-python",
   "name": "python",
   "nbconvert_exporter": "python",
   "pygments_lexer": "ipython2",
   "version": "2.7.13"
  }
 },
 "nbformat": 4,
 "nbformat_minor": 2
}
