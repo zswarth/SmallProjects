{
 "cells": [
  {
   "cell_type": "code",
   "execution_count": 1,
   "metadata": {
    "collapsed": true
   },
   "outputs": [],
   "source": [
    "import numpy as np\n",
    "import matplotlib.pyplot as plt\n",
    "import random as rd\n",
    "data = np.loadtxt('train_MNIST.csv', dtype = str, delimiter = ',')\n"
   ]
  },
  {
   "cell_type": "code",
   "execution_count": 2,
   "metadata": {
    "collapsed": true
   },
   "outputs": [],
   "source": [
    "y = np.asarray(data[1:, 0:1], dtype='float')\n",
    "X = np.asarray(data[1:,1:], dtype='float')\n",
    "\n",
    "\n",
    "def add_ones(x):\n",
    " \ta, b = np.shape(x)\n",
    "\tc = np.ones((a , 1))   \n",
    "\treturn np.hstack((c, x))\n",
    "\n",
    "X = add_ones(X)"
   ]
  },
  {
   "cell_type": "code",
   "execution_count": 3,
   "metadata": {
    "collapsed": true
   },
   "outputs": [],
   "source": [
    "from sklearn.model_selection import train_test_split"
   ]
  },
  {
   "cell_type": "code",
   "execution_count": 4,
   "metadata": {
    "collapsed": true
   },
   "outputs": [],
   "source": [
    "X_train, X_test, y_train, y_test = train_test_split(X, y, test_size=0.9, random_state=42)"
   ]
  },
  {
   "cell_type": "code",
   "execution_count": 5,
   "metadata": {
    "collapsed": true
   },
   "outputs": [],
   "source": [
    "def img(row, data):\n",
    "\timage = np.zeros((28,28))\n",
    "\tfor i in range(0,28):\n",
    "\t\tfor j in range(0,28):\n",
    "\t\t\tpix = 28*i+j\n",
    "\t\t\timage[i,j] = data[row, pix]\n",
    "\tplt.imshow(image, cmap = 'gray')\n",
    "\tplt.show()\n",
    "\tprint data[row,0]"
   ]
  },
  {
   "cell_type": "code",
   "execution_count": null,
   "metadata": {
    "collapsed": true
   },
   "outputs": [],
   "source": []
  },
  {
   "cell_type": "code",
   "execution_count": 6,
   "metadata": {},
   "outputs": [
    {
     "data": {
      "image/png": "[encoded data removed]",
      "text/plain": [
       "<matplotlib.figure.Figure at 0x124b6a250>"
      ]
     },
     "metadata": {},
     "output_type": "display_data"
    },
    {
     "name": "stdout",
     "output_type": "stream",
     "text": [
      "1.0\n"
     ]
    }
   ],
   "source": [
    "img(1, X_train)"
   ]
  },
  {
   "cell_type": "code",
   "execution_count": 7,
   "metadata": {
    "collapsed": true
   },
   "outputs": [],
   "source": [
    "def create_weights(data):\n",
    "\ta, b = np.shape(data)\n",
    "\tweights = np.random.rand(b,1)\n",
    "\treturn weights\n",
    "\n",
    "weights = create_weights(X_train)"
   ]
  },
  {
   "cell_type": "code",
   "execution_count": 8,
   "metadata": {
    "collapsed": true
   },
   "outputs": [],
   "source": [
    "def predict(data_point, weights):\n",
    "\tb = np.dot(data_point, weights)\n",
    "\ta = b>0\n",
    "\treturn a*1"
   ]
  },
  {
   "cell_type": "code",
   "execution_count": 9,
   "metadata": {
    "collapsed": true
   },
   "outputs": [],
   "source": [
    "def one_number(labels, number):\n",
    "\treturn (labels == number)*1"
   ]
  },
  {
   "cell_type": "code",
   "execution_count": 10,
   "metadata": {
    "collapsed": true
   },
   "outputs": [],
   "source": [
    "label_ones = one_number(y_train, 2)"
   ]
  },
  {
   "cell_type": "code",
   "execution_count": 11,
   "metadata": {
    "collapsed": true
   },
   "outputs": [],
   "source": [
    "def update(weights, data_point, labels, alpha=.1):\n",
    "\tpredicted = predict(data_point, weights)\n",
    "#for i in range(0, len(weights)):\n",
    "\tweight_temp = np.zeros(np.shape(weights))\n",
    "\tweight_temp[:,0] = alpha*(labels-predicted)*data_point\n",
    "\treturn weight_temp+weights"
   ]
  },
  {
   "cell_type": "code",
   "execution_count": 12,
   "metadata": {},
   "outputs": [
    {
     "data": {
      "text/plain": [
       "(785, 1)"
      ]
     },
     "execution_count": 12,
     "metadata": {},
     "output_type": "execute_result"
    }
   ],
   "source": [
    "np.shape(update(weights, X_train[3], label_ones[3]))"
   ]
  },
  {
   "cell_type": "code",
   "execution_count": 13,
   "metadata": {
    "collapsed": true
   },
   "outputs": [],
   "source": [
    "def train_perceptron(data, labels, weights, alpha = .1, iterations = 100):\n",
    "\tfor j in range(0, iterations):\n",
    "\t\tfor i in range(0, len(data)):\n",
    "\t\t\tweights = update(weights, data[i], labels[i], alpha)\n",
    "\treturn weights"
   ]
  },
  {
   "cell_type": "code",
   "execution_count": 14,
   "metadata": {
    "collapsed": true
   },
   "outputs": [],
   "source": [
    "weights_new = train_perceptron(X_train, label_ones, weights, alpha = .1, iterations = 50)"
   ]
  },
  {
   "cell_type": "code",
   "execution_count": 74,
   "metadata": {
    "collapsed": true
   },
   "outputs": [],
   "source": [
    "label_ones = one_number(y_train, 3)\n",
    "weights_new = train_perceptron(X_train, label_ones, weights, alpha = .01, iterations =600)"
   ]
  },
  {
   "cell_type": "code",
   "execution_count": 138,
   "metadata": {},
   "outputs": [
    {
     "name": "stdout",
     "output_type": "stream",
     "text": [
      "434\n"
     ]
    }
   ],
   "source": [
    "def test_perceptron_f(data, labels, weights):\n",
    "    a,b = np.shape(data)\n",
    "    predicted = predict(data, weights)\n",
    "    correct = (predicted==labels)*1==1\n",
    "    true_pos = np.sum((labels==1)*(correct))\n",
    "    true_neg = np.sum((labels==0)*(correct))\n",
    "    tp_p = true_pos/float(np.sum(labels))\n",
    "    tn_p = true_neg/float(a- np.sum(labels))\n",
    "    return true_pos, true_neg, tp_p, tn_p, a\n",
    "    \n",
    "a,b,c,d,e = test_perceptron_f(X_train, label_ones, weights_new)"
   ]
  },
  {
   "cell_type": "code",
   "execution_count": 137,
   "metadata": {},
   "outputs": [],
   "source": [
    "import matplotlib.pyplot as plt"
   ]
  },
  {
   "cell_type": "code",
   "execution_count": null,
   "metadata": {
    "collapsed": true
   },
   "outputs": [],
   "source": [
    "plt.bar()"
   ]
  },
  {
   "cell_type": "code",
   "execution_count": 76,
   "metadata": {},
   "outputs": [
    {
     "name": "stdout",
     "output_type": "stream",
     "text": [
      "(785, 1)\n",
      "(785, 1)\n",
      "(785, 1)\n",
      "(785, 1)\n",
      "(785, 1)\n",
      "(785, 1)\n",
      "(785, 1)\n",
      "(785, 1)\n",
      "(785, 1)\n",
      "(785, 1)\n"
     ]
    }
   ],
   "source": [
    "\n",
    "for i in range(0,10):\n",
    "\tnum = i\n",
    "\tlabel_ones = one_number(y_train, num)\n",
    "\tweights_new = train_perceptron(X_train, label_ones, weights, alpha = .1, iterations =5)\n",
    "\tlabel_test = one_number(y_test, num)\n",
    "\ta = test_perceptron(X_test, label_test, weights_new)"
   ]
  },
  {
   "cell_type": "code",
   "execution_count": null,
   "metadata": {
    "collapsed": true
   },
   "outputs": [],
   "source": []
  },
  {
   "cell_type": "code",
   "execution_count": 78,
   "metadata": {
    "collapsed": true
   },
   "outputs": [],
   "source": [
    "def all_numbers(data,labels):\n",
    "\tc,d = np.shape(data)\n",
    "\tw = create_weights(data)\n",
    "\tweights = []\n",
    "\tfor i in range(0,  len(np.unique(labels))):\n",
    "\t\tz = one_number(labels, i)\n",
    "\t\ta = train_perceptron(data, z, w, .1, 4)\n",
    "\t\tweights.append(a[:,0])\n",
    "\treturn np.asarray(weights)"
   ]
  },
  {
   "cell_type": "code",
   "execution_count": 79,
   "metadata": {
    "collapsed": true
   },
   "outputs": [],
   "source": [
    "w = all_numbers(X_train, y_train)"
   ]
  },
  {
   "cell_type": "code",
   "execution_count": 80,
   "metadata": {},
   "outputs": [
    {
     "name": "stdout",
     "output_type": "stream",
     "text": [
      "(10, 785)\n"
     ]
    }
   ],
   "source": [
    "print np.shape(w)"
   ]
  },
  {
   "cell_type": "code",
   "execution_count": null,
   "metadata": {
    "collapsed": true
   },
   "outputs": [],
   "source": []
  },
  {
   "cell_type": "code",
   "execution_count": 133,
   "metadata": {},
   "outputs": [
    {
     "name": "stdout",
     "output_type": "stream",
     "text": [
      "0.84380952381\n"
     ]
    }
   ],
   "source": [
    "def one_all(data, weights):\n",
    "\ta = np.dot(data,np.transpose(weights))\n",
    "\tb = len(np.shape(data))\n",
    "\tif b == 1:\n",
    "\t\treturn np.argmax(a)\n",
    "\treturn np.argmax(a, axis=1)\n",
    "\n",
    "\n",
    "def test_all(data, labels, weights):\n",
    "\ta, b = np.shape(labels)\n",
    "\tpredicted = one_all(data, weights)\n",
    "\tcorrect = predicted == labels[:,0]\n",
    "\taccuracy = np.sum(correct)/float(a)\n",
    "\treturn accuracy\n",
    "\n",
    "print test_all(X_train, y_train, w)\n",
    "\n"
   ]
  },
  {
   "cell_type": "code",
   "execution_count": 134,
   "metadata": {
    "collapsed": true
   },
   "outputs": [],
   "source": [
    "a = len(np.unique(y_train))"
   ]
  },
  {
   "cell_type": "code",
   "execution_count": 135,
   "metadata": {},
   "outputs": [
    {
     "name": "stdout",
     "output_type": "stream",
     "text": [
      "10\n"
     ]
    }
   ],
   "source": [
    "print a"
   ]
  },
  {
   "cell_type": "code",
   "execution_count": null,
   "metadata": {
    "collapsed": true
   },
   "outputs": [],
   "source": []
  }
 ],
 "metadata": {
  "kernelspec": {
   "display_name": "Python 2",
   "language": "python",
   "name": "python2"
  },
  "language_info": {
   "codemirror_mode": {
    "name": "ipython",
    "version": 2
   },
   "file_extension": ".py",
   "mimetype": "text/x-python",
   "name": "python",
   "nbconvert_exporter": "python",
   "pygments_lexer": "ipython2",
   "version": "2.7.13"
  }
 },
 "nbformat": 4,
 "nbformat_minor": 2
}
