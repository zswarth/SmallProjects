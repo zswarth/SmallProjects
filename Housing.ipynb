{
 "cells": [
  {
   "cell_type": "code",
   "execution_count": 213,
   "metadata": {},
   "outputs": [],
   "source": [
    "import numpy as np\n",
    "import pandas as pd\n",
    "\n",
    "data = pd.read_csv('RealEstate.csv')"
   ]
  },
  {
   "cell_type": "code",
   "execution_count": 214,
   "metadata": {},
   "outputs": [
    {
     "name": "stdout",
     "output_type": "stream",
     "text": [
      "      MLS            Location     Price  Bedrooms  Bathrooms  Size  \\\n",
      "0  132842       Arroyo Grande  795000.0         3          3  2371   \n",
      "1  134364         Paso Robles  399000.0         4          3  2818   \n",
      "2  135141         Paso Robles  545000.0         4          3  3032   \n",
      "3  135712           Morro Bay  909000.0         4          4  3540   \n",
      "4  136282  Santa Maria-Orcutt  109900.0         3          1  1249   \n",
      "\n",
      "   Price/SQ.Ft      Status  \n",
      "0       335.30  Short Sale  \n",
      "1       141.59  Short Sale  \n",
      "2       179.75  Short Sale  \n",
      "3       256.78  Short Sale  \n",
      "4        87.99  Short Sale  \n"
     ]
    }
   ],
   "source": [
    "print data.head()"
   ]
  },
  {
   "cell_type": "code",
   "execution_count": 215,
   "metadata": {},
   "outputs": [
    {
     "data": {
      "text/plain": [
       "MLS            781\n",
       "Location       781\n",
       "Price          781\n",
       "Bedrooms       781\n",
       "Bathrooms      781\n",
       "Size           781\n",
       "Price/SQ.Ft    781\n",
       "Status         781\n",
       "dtype: int64"
      ]
     },
     "execution_count": 215,
     "metadata": {},
     "output_type": "execute_result"
    }
   ],
   "source": [
    "data.apply(lambda x: x.count(), axis=0)\n"
   ]
  },
  {
   "cell_type": "code",
   "execution_count": 216,
   "metadata": {},
   "outputs": [],
   "source": [
    "data = data.drop('Price/SQ.Ft', axis = 1)"
   ]
  },
  {
   "cell_type": "code",
   "execution_count": 217,
   "metadata": {},
   "outputs": [
    {
     "name": "stdout",
     "output_type": "stream",
     "text": [
      "Rare                  311\n",
      "Santa Maria-Orcutt    265\n",
      "Paso Robles            85\n",
      "Atascadero             58\n",
      "Nipomo                 34\n",
      "Arroyo Grande          28\n",
      "Name: Location, dtype: int64\n"
     ]
    }
   ],
   "source": [
    "a= data['Location'].value_counts().keys()\n",
    "data['Location'] = data['Location'].replace(to_replace=a[5:], value='Rare')\n",
    "print data['Location'].value_counts()"
   ]
  },
  {
   "cell_type": "code",
   "execution_count": 218,
   "metadata": {},
   "outputs": [],
   "source": [
    "dummies = pd.get_dummies(data['Location'])\n",
    "for m_number in dummies.columns:\n",
    "\tdata['Location_%s' % m_number] = dummies[m_number]"
   ]
  },
  {
   "cell_type": "code",
   "execution_count": 219,
   "metadata": {},
   "outputs": [],
   "source": [
    "data = data.drop('Location', axis = 1)"
   ]
  },
  {
   "cell_type": "code",
   "execution_count": 220,
   "metadata": {},
   "outputs": [
    {
     "name": "stdout",
     "output_type": "stream",
     "text": [
      "      MLS     Price  Bedrooms  Bathrooms  Size      Status  \\\n",
      "0  132842  795000.0         3          3  2371  Short Sale   \n",
      "1  134364  399000.0         4          3  2818  Short Sale   \n",
      "2  135141  545000.0         4          3  3032  Short Sale   \n",
      "3  135712  909000.0         4          4  3540  Short Sale   \n",
      "4  136282  109900.0         3          1  1249  Short Sale   \n",
      "\n",
      "   Location_Arroyo Grande  Location_Atascadero  Location_Nipomo  \\\n",
      "0                       1                    0                0   \n",
      "1                       0                    0                0   \n",
      "2                       0                    0                0   \n",
      "3                       0                    0                0   \n",
      "4                       0                    0                0   \n",
      "\n",
      "   Location_Paso Robles  Location_Rare  Location_Santa Maria-Orcutt  \n",
      "0                     0              0                            0  \n",
      "1                     1              0                            0  \n",
      "2                     1              0                            0  \n",
      "3                     0              1                            0  \n",
      "4                     0              0                            1  \n"
     ]
    }
   ],
   "source": [
    "print data.head()"
   ]
  },
  {
   "cell_type": "code",
   "execution_count": 221,
   "metadata": {},
   "outputs": [],
   "source": [
    "data_new = data.drop(['MLS', 'Status'], axis = 1)"
   ]
  },
  {
   "cell_type": "code",
   "execution_count": 222,
   "metadata": {},
   "outputs": [],
   "source": [
    "# for i in range(0,len(data.index)):\n",
    "#     if data['Location'][i] not in a[0:7]:\n",
    "#         data['Location'][i] = 'Rare'"
   ]
  },
  {
   "cell_type": "code",
   "execution_count": 223,
   "metadata": {},
   "outputs": [
    {
     "data": {
      "text/plain": [
       "pandas.core.frame.DataFrame"
      ]
     },
     "execution_count": 223,
     "metadata": {},
     "output_type": "execute_result"
    }
   ],
   "source": [
    "type(data_new)"
   ]
  },
  {
   "cell_type": "code",
   "execution_count": null,
   "metadata": {},
   "outputs": [],
   "source": []
  },
  {
   "cell_type": "code",
   "execution_count": 224,
   "metadata": {},
   "outputs": [],
   "source": [
    "from sklearn import preprocessing\n"
   ]
  },
  {
   "cell_type": "code",
   "execution_count": 225,
   "metadata": {},
   "outputs": [],
   "source": [
    "scaler = preprocessing.MinMaxScaler()"
   ]
  },
  {
   "cell_type": "code",
   "execution_count": 226,
   "metadata": {},
   "outputs": [],
   "source": [
    "test_data = scaler.fit_transform(data_new)"
   ]
  },
  {
   "cell_type": "code",
   "execution_count": 227,
   "metadata": {},
   "outputs": [
    {
     "name": "stdout",
     "output_type": "stream",
     "text": [
      "[[ 0.14042942  0.3         0.2        ...,  0.          0.          0.        ]\n",
      " [ 0.06806761  0.4         0.2        ...,  1.          0.          0.        ]\n",
      " [ 0.09474646  0.4         0.2        ...,  1.          0.          0.        ]\n",
      " ..., \n",
      " [ 0.06313385  0.3         0.1        ...,  0.          1.          0.        ]\n",
      " [ 0.10278666  0.3         0.1        ...,  0.          1.          0.        ]\n",
      " [ 0.19616263  0.3         0.2        ...,  0.          1.          0.        ]]\n"
     ]
    }
   ],
   "source": [
    "print test_data"
   ]
  },
  {
   "cell_type": "code",
   "execution_count": 228,
   "metadata": {},
   "outputs": [],
   "source": [
    "from sklearn.cluster import KMeans"
   ]
  },
  {
   "cell_type": "code",
   "execution_count": 229,
   "metadata": {},
   "outputs": [
    {
     "data": {
      "text/plain": [
       "Short Sale     516\n",
       "Foreclosure    162\n",
       "Regular        103\n",
       "Name: Status, dtype: int64"
      ]
     },
     "execution_count": 229,
     "metadata": {},
     "output_type": "execute_result"
    }
   ],
   "source": [
    "data['Status'].value_counts()"
   ]
  },
  {
   "cell_type": "code",
   "execution_count": 237,
   "metadata": {},
   "outputs": [],
   "source": [
    "clf = KMeans(n_clusters=3)"
   ]
  },
  {
   "cell_type": "code",
   "execution_count": 238,
   "metadata": {},
   "outputs": [
    {
     "data": {
      "text/plain": [
       "KMeans(algorithm='auto', copy_x=True, init='k-means++', max_iter=300,\n",
       "    n_clusters=3, n_init=10, n_jobs=1, precompute_distances='auto',\n",
       "    random_state=None, tol=0.0001, verbose=0)"
      ]
     },
     "execution_count": 238,
     "metadata": {},
     "output_type": "execute_result"
    }
   ],
   "source": [
    "clf.fit(test_data)"
   ]
  },
  {
   "cell_type": "code",
   "execution_count": 239,
   "metadata": {},
   "outputs": [],
   "source": [
    "data['Predicted'] = clf.predict(test_data)"
   ]
  },
  {
   "cell_type": "code",
   "execution_count": null,
   "metadata": {},
   "outputs": [],
   "source": []
  },
  {
   "cell_type": "code",
   "execution_count": 240,
   "metadata": {},
   "outputs": [
    {
     "data": {
      "text/plain": [
       "0    311\n",
       "2    265\n",
       "1    205\n",
       "Name: Predicted, dtype: int64"
      ]
     },
     "execution_count": 240,
     "metadata": {},
     "output_type": "execute_result"
    }
   ],
   "source": [
    "data['Predicted'].value_counts()"
   ]
  },
  {
   "cell_type": "code",
   "execution_count": 241,
   "metadata": {},
   "outputs": [],
   "source": [
    "data['Predicted'] = data['Predicted'].replace(to_replace=[0,1,2], value=['Short Sale', 'Foreclosure', 'REgular'])"
   ]
  },
  {
   "cell_type": "code",
   "execution_count": 242,
   "metadata": {},
   "outputs": [],
   "source": [
    "data['Correct'] = data['Predicted']==data['Status']"
   ]
  },
  {
   "cell_type": "code",
   "execution_count": 243,
   "metadata": {},
   "outputs": [
    {
     "data": {
      "text/plain": [
       "False    580\n",
       "True     201\n",
       "Name: Correct, dtype: int64"
      ]
     },
     "execution_count": 243,
     "metadata": {},
     "output_type": "execute_result"
    }
   ],
   "source": [
    "data['Correct'].value_counts()"
   ]
  },
  {
   "cell_type": "code",
   "execution_count": null,
   "metadata": {},
   "outputs": [],
   "source": []
  }
 ],
 "metadata": {
  "kernelspec": {
   "display_name": "Python 2",
   "language": "python",
   "name": "python2"
  },
  "language_info": {
   "codemirror_mode": {
    "name": "ipython",
    "version": 2
   },
   "file_extension": ".py",
   "mimetype": "text/x-python",
   "name": "python",
   "nbconvert_exporter": "python",
   "pygments_lexer": "ipython2",
   "version": "2.7.13"
  }
 },
 "nbformat": 4,
 "nbformat_minor": 2
}
