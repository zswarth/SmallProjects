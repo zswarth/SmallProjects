{
 "cells": [
  {
   "cell_type": "code",
<<<<<<< HEAD
   "execution_count": 70,
   "metadata": {
    "collapsed": true
   },
=======
   "execution_count": 213,
   "metadata": {},
>>>>>>> 0fefaccc987840c802547350457efb7fa9fe31d3
   "outputs": [],
   "source": [
    "import numpy as np\n",
    "import pandas as pd\n",
    "\n",
    "data = pd.read_csv('RealEstate.csv')"
   ]
  },
  {
   "cell_type": "code",
<<<<<<< HEAD
   "execution_count": 71,
=======
   "execution_count": 214,
>>>>>>> 0fefaccc987840c802547350457efb7fa9fe31d3
   "metadata": {},
   "outputs": [
    {
     "name": "stdout",
     "output_type": "stream",
     "text": [
      "      MLS            Location     Price  Bedrooms  Bathrooms  Size  \\\n",
      "0  132842       Arroyo Grande  795000.0         3          3  2371   \n",
      "1  134364         Paso Robles  399000.0         4          3  2818   \n",
      "2  135141         Paso Robles  545000.0         4          3  3032   \n",
      "3  135712           Morro Bay  909000.0         4          4  3540   \n",
      "4  136282  Santa Maria-Orcutt  109900.0         3          1  1249   \n",
      "\n",
      "   Price/SQ.Ft      Status  \n",
      "0       335.30  Short Sale  \n",
      "1       141.59  Short Sale  \n",
      "2       179.75  Short Sale  \n",
      "3       256.78  Short Sale  \n",
      "4        87.99  Short Sale  \n"
     ]
    }
   ],
   "source": [
    "print data.head()"
   ]
  },
  {
   "cell_type": "code",
<<<<<<< HEAD
   "execution_count": 72,
=======
   "execution_count": 215,
>>>>>>> 0fefaccc987840c802547350457efb7fa9fe31d3
   "metadata": {},
   "outputs": [
    {
     "data": {
      "text/plain": [
       "MLS            781\n",
       "Location       781\n",
       "Price          781\n",
       "Bedrooms       781\n",
       "Bathrooms      781\n",
       "Size           781\n",
       "Price/SQ.Ft    781\n",
       "Status         781\n",
       "dtype: int64"
      ]
     },
<<<<<<< HEAD
     "execution_count": 72,
=======
     "execution_count": 215,
>>>>>>> 0fefaccc987840c802547350457efb7fa9fe31d3
     "metadata": {},
     "output_type": "execute_result"
    }
   ],
   "source": [
    "data.apply(lambda x: x.count(), axis=0)\n"
   ]
  },
  {
   "cell_type": "code",
<<<<<<< HEAD
   "execution_count": 73,
=======
   "execution_count": 216,
   "metadata": {},
   "outputs": [],
   "source": [
    "data = data.drop('Price/SQ.Ft', axis = 1)"
   ]
  },
  {
   "cell_type": "code",
   "execution_count": 217,
   "metadata": {},
   "outputs": [
    {
     "name": "stdout",
     "output_type": "stream",
     "text": [
      "Rare                  311\n",
      "Santa Maria-Orcutt    265\n",
      "Paso Robles            85\n",
      "Atascadero             58\n",
      "Nipomo                 34\n",
      "Arroyo Grande          28\n",
      "Name: Location, dtype: int64\n"
     ]
    }
   ],
   "source": [
    "a= data['Location'].value_counts().keys()\n",
    "data['Location'] = data['Location'].replace(to_replace=a[5:], value='Rare')\n",
    "print data['Location'].value_counts()"
   ]
  },
  {
   "cell_type": "code",
   "execution_count": 218,
   "metadata": {},
   "outputs": [],
   "source": [
    "dummies = pd.get_dummies(data['Location'])\n",
    "for m_number in dummies.columns:\n",
    "\tdata['Location_%s' % m_number] = dummies[m_number]"
   ]
  },
  {
   "cell_type": "code",
   "execution_count": 219,
   "metadata": {},
   "outputs": [],
   "source": [
    "data = data.drop('Location', axis = 1)"
   ]
  },
  {
   "cell_type": "code",
   "execution_count": 220,
   "metadata": {},
   "outputs": [
    {
     "name": "stdout",
     "output_type": "stream",
     "text": [
      "      MLS     Price  Bedrooms  Bathrooms  Size      Status  \\\n",
      "0  132842  795000.0         3          3  2371  Short Sale   \n",
      "1  134364  399000.0         4          3  2818  Short Sale   \n",
      "2  135141  545000.0         4          3  3032  Short Sale   \n",
      "3  135712  909000.0         4          4  3540  Short Sale   \n",
      "4  136282  109900.0         3          1  1249  Short Sale   \n",
      "\n",
      "   Location_Arroyo Grande  Location_Atascadero  Location_Nipomo  \\\n",
      "0                       1                    0                0   \n",
      "1                       0                    0                0   \n",
      "2                       0                    0                0   \n",
      "3                       0                    0                0   \n",
      "4                       0                    0                0   \n",
      "\n",
      "   Location_Paso Robles  Location_Rare  Location_Santa Maria-Orcutt  \n",
      "0                     0              0                            0  \n",
      "1                     1              0                            0  \n",
      "2                     1              0                            0  \n",
      "3                     0              1                            0  \n",
      "4                     0              0                            1  \n"
     ]
    }
   ],
   "source": [
    "print data.head()"
   ]
  },
  {
   "cell_type": "code",
   "execution_count": 221,
   "metadata": {},
   "outputs": [],
   "source": [
    "data_new = data.drop(['MLS', 'Status'], axis = 1)"
   ]
  },
  {
   "cell_type": "code",
   "execution_count": 222,
   "metadata": {},
   "outputs": [],
   "source": [
    "# for i in range(0,len(data.index)):\n",
    "#     if data['Location'][i] not in a[0:7]:\n",
    "#         data['Location'][i] = 'Rare'"
   ]
  },
  {
   "cell_type": "code",
   "execution_count": 223,
>>>>>>> 0fefaccc987840c802547350457efb7fa9fe31d3
   "metadata": {},
   "outputs": [
    {
     "data": {
      "text/plain": [
       "pandas.core.frame.DataFrame"
      ]
     },
<<<<<<< HEAD
     "execution_count": 73,
=======
     "execution_count": 223,
>>>>>>> 0fefaccc987840c802547350457efb7fa9fe31d3
     "metadata": {},
     "output_type": "execute_result"
    }
   ],
   "source": [
    "type(data_new)"
   ]
  },
  {
   "cell_type": "code",
   "execution_count": null,
   "metadata": {},
   "outputs": [],
   "source": []
  },
  {
   "cell_type": "code",
   "execution_count": 224,
   "metadata": {},
   "outputs": [],
   "source": [
    "from sklearn import preprocessing\n"
   ]
  },
  {
   "cell_type": "code",
   "execution_count": 225,
   "metadata": {},
   "outputs": [],
   "source": [
    "scaler = preprocessing.MinMaxScaler()"
   ]
  },
  {
   "cell_type": "code",
<<<<<<< HEAD
   "execution_count": 74,
   "metadata": {
    "collapsed": true
   },
=======
   "execution_count": 226,
   "metadata": {},
>>>>>>> 0fefaccc987840c802547350457efb7fa9fe31d3
   "outputs": [],
   "source": [
    "test_data = scaler.fit_transform(data_new)"
   ]
  },
  {
   "cell_type": "code",
<<<<<<< HEAD
   "execution_count": 75,
=======
   "execution_count": 227,
>>>>>>> 0fefaccc987840c802547350457efb7fa9fe31d3
   "metadata": {},
   "outputs": [
    {
     "name": "stdout",
     "output_type": "stream",
     "text": [
<<<<<<< HEAD
      "/Users/teacher/anaconda/lib/python2.7/site-packages/ipykernel_launcher.py:3: SettingWithCopyWarning: \n",
      "A value is trying to be set on a copy of a slice from a DataFrame\n",
      "\n",
      "See the caveats in the documentation: http://pandas.pydata.org/pandas-docs/stable/indexing.html#indexing-view-versus-copy\n",
      "  This is separate from the ipykernel package so we can avoid doing imports until\n"
=======
      "[[ 0.14042942  0.3         0.2        ...,  0.          0.          0.        ]\n",
      " [ 0.06806761  0.4         0.2        ...,  1.          0.          0.        ]\n",
      " [ 0.09474646  0.4         0.2        ...,  1.          0.          0.        ]\n",
      " ..., \n",
      " [ 0.06313385  0.3         0.1        ...,  0.          1.          0.        ]\n",
      " [ 0.10278666  0.3         0.1        ...,  0.          1.          0.        ]\n",
      " [ 0.19616263  0.3         0.2        ...,  0.          1.          0.        ]]\n"
>>>>>>> 0fefaccc987840c802547350457efb7fa9fe31d3
     ]
    }
   ],
   "source": [
<<<<<<< HEAD
    "for i in range(0,len(data.index)):\n",
    "    if data['Location'][i] not in a[0:2]:\n",
    "        data['Location'][i] = 'Rare'"
=======
    "print test_data"
>>>>>>> 0fefaccc987840c802547350457efb7fa9fe31d3
   ]
  },
  {
   "cell_type": "code",
<<<<<<< HEAD
   "execution_count": 78,
   "metadata": {},
   "outputs": [
    {
     "name": "stdout",
     "output_type": "stream",
     "text": [
      "0                    Rare\n",
      "1             Paso Robles\n",
      "2             Paso Robles\n",
      "3                    Rare\n",
      "4      Santa Maria-Orcutt\n",
      "5                    Rare\n",
      "6      Santa Maria-Orcutt\n",
      "7      Santa Maria-Orcutt\n",
      "8                    Rare\n",
      "9                    Rare\n",
      "10     Santa Maria-Orcutt\n",
      "11     Santa Maria-Orcutt\n",
      "12                   Rare\n",
      "13     Santa Maria-Orcutt\n",
      "14     Santa Maria-Orcutt\n",
      "15            Paso Robles\n",
      "16                   Rare\n",
      "17                   Rare\n",
      "18            Paso Robles\n",
      "19                   Rare\n",
      "20                   Rare\n",
      "21                   Rare\n",
      "22     Santa Maria-Orcutt\n",
      "23     Santa Maria-Orcutt\n",
      "24     Santa Maria-Orcutt\n",
      "25     Santa Maria-Orcutt\n",
      "26                   Rare\n",
      "27     Santa Maria-Orcutt\n",
      "28     Santa Maria-Orcutt\n",
      "29     Santa Maria-Orcutt\n",
      "              ...        \n",
      "751                  Rare\n",
      "752                  Rare\n",
      "753                  Rare\n",
      "754                  Rare\n",
      "755                  Rare\n",
      "756                  Rare\n",
      "757                  Rare\n",
      "758                  Rare\n",
      "759                  Rare\n",
      "760                  Rare\n",
      "761                  Rare\n",
      "762                  Rare\n",
      "763                  Rare\n",
      "764                  Rare\n",
      "765                  Rare\n",
      "766    Santa Maria-Orcutt\n",
      "767    Santa Maria-Orcutt\n",
      "768    Santa Maria-Orcutt\n",
      "769                  Rare\n",
      "770                  Rare\n",
      "771                  Rare\n",
      "772                  Rare\n",
      "773                  Rare\n",
      "774                  Rare\n",
      "775                  Rare\n",
      "776                  Rare\n",
      "777                  Rare\n",
      "778                  Rare\n",
      "779                  Rare\n",
      "780                  Rare\n",
      "Name: Location, Length: 781, dtype: object\n"
     ]
=======
   "execution_count": 228,
   "metadata": {},
   "outputs": [],
   "source": [
    "from sklearn.cluster import KMeans"
   ]
  },
  {
   "cell_type": "code",
   "execution_count": 229,
   "metadata": {},
   "outputs": [
    {
     "data": {
      "text/plain": [
       "Short Sale     516\n",
       "Foreclosure    162\n",
       "Regular        103\n",
       "Name: Status, dtype: int64"
      ]
     },
     "execution_count": 229,
     "metadata": {},
     "output_type": "execute_result"
>>>>>>> 0fefaccc987840c802547350457efb7fa9fe31d3
    }
   ],
   "source": [
    "data['Status'].value_counts()"
   ]
  },
  {
   "cell_type": "code",
<<<<<<< HEAD
   "execution_count": 79,
=======
   "execution_count": 237,
   "metadata": {},
   "outputs": [],
   "source": [
    "clf = KMeans(n_clusters=3)"
   ]
  },
  {
   "cell_type": "code",
   "execution_count": 238,
>>>>>>> 0fefaccc987840c802547350457efb7fa9fe31d3
   "metadata": {},
   "outputs": [
    {
     "data": {
      "text/plain": [
       "KMeans(algorithm='auto', copy_x=True, init='k-means++', max_iter=300,\n",
       "    n_clusters=3, n_init=10, n_jobs=1, precompute_distances='auto',\n",
       "    random_state=None, tol=0.0001, verbose=0)"
      ]
     },
<<<<<<< HEAD
     "execution_count": 79,
=======
     "execution_count": 238,
>>>>>>> 0fefaccc987840c802547350457efb7fa9fe31d3
     "metadata": {},
     "output_type": "execute_result"
    }
   ],
   "source": [
    "clf.fit(test_data)"
   ]
  },
  {
   "cell_type": "code",
<<<<<<< HEAD
   "execution_count": 80,
   "metadata": {
    "collapsed": true
   },
=======
   "execution_count": 239,
   "metadata": {},
>>>>>>> 0fefaccc987840c802547350457efb7fa9fe31d3
   "outputs": [],
   "source": [
    "data['Predicted'] = clf.predict(test_data)"
   ]
  },
  {
   "cell_type": "code",
<<<<<<< HEAD
   "execution_count": 81,
   "metadata": {
    "collapsed": true
   },
=======
   "execution_count": null,
   "metadata": {},
>>>>>>> 0fefaccc987840c802547350457efb7fa9fe31d3
   "outputs": [],
   "source": []
  },
  {
   "cell_type": "code",
   "execution_count": 240,
   "metadata": {},
   "outputs": [
    {
     "data": {
      "text/plain": [
       "0    311\n",
       "2    265\n",
       "1    205\n",
       "Name: Predicted, dtype: int64"
      ]
     },
     "execution_count": 240,
     "metadata": {},
     "output_type": "execute_result"
    }
   ],
   "source": [
    "data['Predicted'].value_counts()"
   ]
  },
  {
   "cell_type": "code",
   "execution_count": 241,
   "metadata": {},
   "outputs": [],
   "source": [
    "data['Predicted'] = data['Predicted'].replace(to_replace=[0,1,2], value=['Short Sale', 'Foreclosure', 'REgular'])"
   ]
  },
  {
   "cell_type": "code",
<<<<<<< HEAD
   "execution_count": 82,
   "metadata": {},
   "outputs": [],
   "source": [
    "dummies = pd.get_dummies(data['Status'])\n",
    "for m_number in dummies.columns:\n",
    "\tdata['Status_%s' % m_number] = dummies[m_number]"
=======
   "execution_count": 242,
   "metadata": {},
   "outputs": [],
   "source": [
    "data['Correct'] = data['Predicted']==data['Status']"
>>>>>>> 0fefaccc987840c802547350457efb7fa9fe31d3
   ]
  },
  {
   "cell_type": "code",
<<<<<<< HEAD
   "execution_count": 83,
   "metadata": {},
   "outputs": [
    {
     "name": "stdout",
     "output_type": "stream",
     "text": [
      "        MLS            Location      Price  Bedrooms  Bathrooms  Size  \\\n",
      "0    132842                Rare   795000.0         3          3  2371   \n",
      "1    134364         Paso Robles   399000.0         4          3  2818   \n",
      "2    135141         Paso Robles   545000.0         4          3  3032   \n",
      "3    135712                Rare   909000.0         4          4  3540   \n",
      "4    136282  Santa Maria-Orcutt   109900.0         3          1  1249   \n",
      "5    136431                Rare   324900.0         3          3  1800   \n",
      "6    137036  Santa Maria-Orcutt   192900.0         4          2  1603   \n",
      "7    137090  Santa Maria-Orcutt   215000.0         3          2  1450   \n",
      "8    137159                Rare   999000.0         4          3  3360   \n",
      "9    137570                Rare   319000.0         3          2  1323   \n",
      "10   138053  Santa Maria-Orcutt   350000.0         3          2  1750   \n",
      "11   138730  Santa Maria-Orcutt   249000.0         3          2  1400   \n",
      "12   139291                Rare   299000.0         2          2  1257   \n",
      "13   139427  Santa Maria-Orcutt   235900.0         3          2  1400   \n",
      "14   139461  Santa Maria-Orcutt   348000.0         3          2  1600   \n",
      "15   139661         Paso Robles   314000.0         4          3  1794   \n",
      "16   139918                Rare   399000.0         4          2  1850   \n",
      "17   139932                Rare   599000.0         3          3  2950   \n",
      "18   140044         Paso Robles   299000.0         3          2  1719   \n",
      "19   140073                Rare   425000.0         3          3  1472   \n",
      "20   140077                Rare  1100000.0         4          3  4168   \n",
      "21   140080                Rare  1500000.0         3          3  3880   \n",
      "22   140113  Santa Maria-Orcutt   110000.0         2          1  1000   \n",
      "23   140395  Santa Maria-Orcutt   200000.0         3          2  1139   \n",
      "24   140460  Santa Maria-Orcutt   134900.0         3          1  1080   \n",
      "25   140703  Santa Maria-Orcutt   250000.0         4          3  2000   \n",
      "26   140720                Rare   950000.0         3          4  1920   \n",
      "27   140731  Santa Maria-Orcutt   239950.0         4          2  1348   \n",
      "28   141188  Santa Maria-Orcutt   170000.0         3          2  1280   \n",
      "29   141212  Santa Maria-Orcutt   285000.0         3          2  2400   \n",
      "..      ...                 ...        ...       ...        ...   ...   \n",
      "751  154523                Rare   509000.0         3          2  1543   \n",
      "752  154525                Rare   214900.0         2          2  1351   \n",
      "753  154526                Rare  5499000.0         4          5  5060   \n",
      "754  154528                Rare   349900.0         3          2  2000   \n",
      "755  154530                Rare   125000.0         2          2  1536   \n",
      "756  154531                Rare   549000.0         2          2   924   \n",
      "757  154532                Rare   865000.0         3          3  1860   \n",
      "758  154533                Rare  1600000.0         3          3  2640   \n",
      "759  154534                Rare  1065000.0         4          4  3395   \n",
      "760  154536                Rare   625000.0         3          2  1850   \n",
      "761  154538                Rare   249999.0         3          2  1000   \n",
      "762  154539                Rare   975000.0         4          3  2720   \n",
      "763  154541                Rare   204900.0         2          1   992   \n",
      "764  154546                Rare   355000.0         3          2  1737   \n",
      "765  154547                Rare   134900.0         3          3  1435   \n",
      "766  154548  Santa Maria-Orcutt   199900.0         5          3  1671   \n",
      "767  154550  Santa Maria-Orcutt   349900.0         4          3  2800   \n",
      "768  154553  Santa Maria-Orcutt    99000.0         2          2   900   \n",
      "769  154554                Rare   409000.0         4          3  2507   \n",
      "770  154556                Rare   339000.0         2          2  1440   \n",
      "771  154557                Rare   595000.0         3          3  2238   \n",
      "772  154558                Rare   849500.0         3          3  2725   \n",
      "773  154559                Rare   399000.0         2          3  1772   \n",
      "774  154560                Rare   399000.0         4          2  1947   \n",
      "775  154561                Rare   525000.0         3          2  1720   \n",
      "776  154562                Rare   319900.0         3          3  1605   \n",
      "777  154565                Rare   495000.0         3          2  1877   \n",
      "778  154566                Rare   372000.0         3          2  1104   \n",
      "779  154575                Rare   589000.0         3          2  1975   \n",
      "780  154580                Rare  1100000.0         3          3  2392   \n",
      "\n",
      "     Price/SQ.Ft       Status  Status_Foreclosure  Status_Regular  \\\n",
      "0         335.30   Short Sale                   0               0   \n",
      "1         141.59   Short Sale                   0               0   \n",
      "2         179.75   Short Sale                   0               0   \n",
      "3         256.78   Short Sale                   0               0   \n",
      "4          87.99   Short Sale                   0               0   \n",
      "5         180.50   Short Sale                   0               0   \n",
      "6         120.34   Short Sale                   0               0   \n",
      "7         148.28   Short Sale                   0               0   \n",
      "8         297.32   Short Sale                   0               0   \n",
      "9         241.12   Short Sale                   0               0   \n",
      "10        200.00   Short Sale                   0               0   \n",
      "11        177.86   Short Sale                   0               0   \n",
      "12        237.87   Short Sale                   0               0   \n",
      "13        168.50   Short Sale                   0               0   \n",
      "14        217.50   Short Sale                   0               0   \n",
      "15        175.03   Short Sale                   0               0   \n",
      "16        215.68   Short Sale                   0               0   \n",
      "17        203.05   Short Sale                   0               0   \n",
      "18        173.94   Short Sale                   0               0   \n",
      "19        288.72   Short Sale                   0               0   \n",
      "20        263.92   Short Sale                   0               0   \n",
      "21        386.60   Short Sale                   0               0   \n",
      "22        110.00   Short Sale                   0               0   \n",
      "23        175.59   Short Sale                   0               0   \n",
      "24        124.91   Short Sale                   0               0   \n",
      "25        125.00   Short Sale                   0               0   \n",
      "26        494.79   Short Sale                   0               0   \n",
      "27        178.00   Short Sale                   0               0   \n",
      "28        132.81   Short Sale                   0               0   \n",
      "29        118.75   Short Sale                   0               0   \n",
      "..           ...          ...                 ...             ...   \n",
      "751       329.88      Regular                   0               1   \n",
      "752       159.07      Regular                   0               1   \n",
      "753      1086.76      Regular                   0               1   \n",
      "754       174.95      Regular                   0               1   \n",
      "755        81.38      Regular                   0               1   \n",
      "756       594.16   Short Sale                   0               0   \n",
      "757       465.05      Regular                   0               1   \n",
      "758       606.06      Regular                   0               1   \n",
      "759       313.70      Regular                   0               1   \n",
      "760       337.84  Foreclosure                   1               0   \n",
      "761       250.00      Regular                   0               1   \n",
      "762       358.46      Regular                   0               1   \n",
      "763       206.55   Short Sale                   0               0   \n",
      "764       204.38      Regular                   0               1   \n",
      "765        94.01      Regular                   0               1   \n",
      "766       119.63   Short Sale                   0               0   \n",
      "767       124.96   Short Sale                   0               0   \n",
      "768       110.00  Foreclosure                   1               0   \n",
      "769       163.14   Short Sale                   0               0   \n",
      "770       235.42      Regular                   0               1   \n",
      "771       265.86      Regular                   0               1   \n",
      "772       311.74      Regular                   0               1   \n",
      "773       225.17      Regular                   0               1   \n",
      "774       204.93      Regular                   0               1   \n",
      "775       305.23      Regular                   0               1   \n",
      "776       199.31      Regular                   0               1   \n",
      "777       263.72      Regular                   0               1   \n",
      "778       336.96  Foreclosure                   1               0   \n",
      "779       298.23      Regular                   0               1   \n",
      "780       459.87      Regular                   0               1   \n",
      "\n",
      "     Status_Short Sale  \n",
      "0                    1  \n",
      "1                    1  \n",
      "2                    1  \n",
      "3                    1  \n",
      "4                    1  \n",
      "5                    1  \n",
      "6                    1  \n",
      "7                    1  \n",
      "8                    1  \n",
      "9                    1  \n",
      "10                   1  \n",
      "11                   1  \n",
      "12                   1  \n",
      "13                   1  \n",
      "14                   1  \n",
      "15                   1  \n",
      "16                   1  \n",
      "17                   1  \n",
      "18                   1  \n",
      "19                   1  \n",
      "20                   1  \n",
      "21                   1  \n",
      "22                   1  \n",
      "23                   1  \n",
      "24                   1  \n",
      "25                   1  \n",
      "26                   1  \n",
      "27                   1  \n",
      "28                   1  \n",
      "29                   1  \n",
      "..                 ...  \n",
      "751                  0  \n",
      "752                  0  \n",
      "753                  0  \n",
      "754                  0  \n",
      "755                  0  \n",
      "756                  1  \n",
      "757                  0  \n",
      "758                  0  \n",
      "759                  0  \n",
      "760                  0  \n",
      "761                  0  \n",
      "762                  0  \n",
      "763                  1  \n",
      "764                  0  \n",
      "765                  0  \n",
      "766                  1  \n",
      "767                  1  \n",
      "768                  0  \n",
      "769                  1  \n",
      "770                  0  \n",
      "771                  0  \n",
      "772                  0  \n",
      "773                  0  \n",
      "774                  0  \n",
      "775                  0  \n",
      "776                  0  \n",
      "777                  0  \n",
      "778                  0  \n",
      "779                  0  \n",
      "780                  0  \n",
      "\n",
      "[781 rows x 11 columns]\n"
     ]
    }
   ],
   "source": [
    "print data"
   ]
  },
  {
   "cell_type": "code",
   "execution_count": 84,
   "metadata": {},
   "outputs": [],
   "source": [
    "data = data.drop(['MLS', 'Status'], axis = 1)\n",
    "\n"
   ]
  },
  {
   "cell_type": "code",
   "execution_count": 85,
   "metadata": {},
   "outputs": [],
   "source": [
    "col = list(data.columns.values)\n"
   ]
  },
  {
   "cell_type": "code",
   "execution_count": 86,
   "metadata": {},
   "outputs": [
    {
     "name": "stdout",
     "output_type": "stream",
     "text": [
      "['Location', 'Price', 'Bedrooms', 'Bathrooms', 'Size', 'Price/SQ.Ft', 'Status_Foreclosure', 'Status_Regular', 'Status_Short Sale']\n"
     ]
    }
   ],
   "source": [
    "print col"
=======
   "execution_count": 243,
   "metadata": {},
   "outputs": [
    {
     "data": {
      "text/plain": [
       "False    580\n",
       "True     201\n",
       "Name: Correct, dtype: int64"
      ]
     },
     "execution_count": 243,
     "metadata": {},
     "output_type": "execute_result"
    }
   ],
   "source": [
    "data['Correct'].value_counts()"
>>>>>>> 0fefaccc987840c802547350457efb7fa9fe31d3
   ]
  },
  {
   "cell_type": "code",
   "execution_count": null,
   "metadata": {},
   "outputs": [],
   "source": []
  },
  {
   "cell_type": "code",
   "execution_count": 87,
   "metadata": {},
   "outputs": [],
   "source": [
    "data_scaled = scaler.fit_transform(data[col[1:]])"
   ]
  },
  {
   "cell_type": "code",
   "execution_count": 88,
   "metadata": {},
   "outputs": [
    {
     "name": "stdout",
     "output_type": "stream",
     "text": [
      "[[ 0.14042942  0.3         0.2        ...,  0.          0.          1.        ]\n",
      " [ 0.06806761  0.4         0.2        ...,  0.          0.          1.        ]\n",
      " [ 0.09474646  0.4         0.2        ...,  0.          0.          1.        ]\n",
      " ..., \n",
      " [ 0.06313385  0.3         0.1        ...,  1.          0.          0.        ]\n",
      " [ 0.10278666  0.3         0.1        ...,  0.          1.          0.        ]\n",
      " [ 0.19616263  0.3         0.2        ...,  0.          1.          0.        ]]\n"
     ]
    }
   ],
   "source": [
    "print data_scaled"
   ]
  },
  {
   "cell_type": "code",
   "execution_count": 57,
   "metadata": {},
   "outputs": [],
   "source": [
    "from sklearn.cluster import KMeans"
   ]
  },
  {
   "cell_type": "code",
   "execution_count": 89,
   "metadata": {},
   "outputs": [],
   "source": [
    "clf = KMeans(n_clusters=3, random_state=0)"
   ]
  },
  {
   "cell_type": "code",
   "execution_count": null,
   "metadata": {
    "collapsed": true
   },
   "outputs": [],
   "source": []
  },
  {
   "cell_type": "code",
   "execution_count": 91,
   "metadata": {},
   "outputs": [
    {
     "data": {
      "text/plain": [
       "KMeans(algorithm='auto', copy_x=True, init='k-means++', max_iter=300,\n",
       "    n_clusters=3, n_init=10, n_jobs=1, precompute_distances='auto',\n",
       "    random_state=0, tol=0.0001, verbose=0)"
      ]
     },
     "execution_count": 91,
     "metadata": {},
     "output_type": "execute_result"
    }
   ],
   "source": [
    "clf.fit(data_scaled)"
   ]
  },
  {
   "cell_type": "code",
   "execution_count": 92,
   "metadata": {},
   "outputs": [],
   "source": [
    "data['Labels'] = clf.predict(data_scaled)"
   ]
  },
  {
   "cell_type": "code",
   "execution_count": 93,
   "metadata": {},
   "outputs": [
    {
     "data": {
      "text/plain": [
       "1    516\n",
       "2    162\n",
       "0    103\n",
       "Name: Labels, dtype: int64"
      ]
     },
     "execution_count": 93,
     "metadata": {},
     "output_type": "execute_result"
    }
   ],
   "source": [
    "data['Labels'].value_counts()"
   ]
  },
  {
   "cell_type": "code",
   "execution_count": 94,
   "metadata": {},
   "outputs": [
    {
     "data": {
      "text/plain": [
       "Rare                  431\n",
       "Santa Maria-Orcutt    265\n",
       "Paso Robles            85\n",
       "Name: Location, dtype: int64"
      ]
     },
     "execution_count": 94,
     "metadata": {},
     "output_type": "execute_result"
    }
   ],
   "source": [
    "data['Location'].value_counts()"
   ]
  },
  {
   "cell_type": "code",
   "execution_count": 96,
   "metadata": {},
   "outputs": [],
   "source": [
    "data['Labels'] = data['Labels'].replace(to_replace = [1,2,0], value=['Rare', 'Santa Maria-Orcutt', 'Paso Robles'])"
   ]
  },
  {
   "cell_type": "code",
   "execution_count": 97,
   "metadata": {},
   "outputs": [
    {
     "name": "stdout",
     "output_type": "stream",
     "text": [
      "               Location      Price  Bedrooms  Bathrooms  Size  Price/SQ.Ft  \\\n",
      "0                  Rare   795000.0         3          3  2371       335.30   \n",
      "1           Paso Robles   399000.0         4          3  2818       141.59   \n",
      "2           Paso Robles   545000.0         4          3  3032       179.75   \n",
      "3                  Rare   909000.0         4          4  3540       256.78   \n",
      "4    Santa Maria-Orcutt   109900.0         3          1  1249        87.99   \n",
      "5                  Rare   324900.0         3          3  1800       180.50   \n",
      "6    Santa Maria-Orcutt   192900.0         4          2  1603       120.34   \n",
      "7    Santa Maria-Orcutt   215000.0         3          2  1450       148.28   \n",
      "8                  Rare   999000.0         4          3  3360       297.32   \n",
      "9                  Rare   319000.0         3          2  1323       241.12   \n",
      "10   Santa Maria-Orcutt   350000.0         3          2  1750       200.00   \n",
      "11   Santa Maria-Orcutt   249000.0         3          2  1400       177.86   \n",
      "12                 Rare   299000.0         2          2  1257       237.87   \n",
      "13   Santa Maria-Orcutt   235900.0         3          2  1400       168.50   \n",
      "14   Santa Maria-Orcutt   348000.0         3          2  1600       217.50   \n",
      "15          Paso Robles   314000.0         4          3  1794       175.03   \n",
      "16                 Rare   399000.0         4          2  1850       215.68   \n",
      "17                 Rare   599000.0         3          3  2950       203.05   \n",
      "18          Paso Robles   299000.0         3          2  1719       173.94   \n",
      "19                 Rare   425000.0         3          3  1472       288.72   \n",
      "20                 Rare  1100000.0         4          3  4168       263.92   \n",
      "21                 Rare  1500000.0         3          3  3880       386.60   \n",
      "22   Santa Maria-Orcutt   110000.0         2          1  1000       110.00   \n",
      "23   Santa Maria-Orcutt   200000.0         3          2  1139       175.59   \n",
      "24   Santa Maria-Orcutt   134900.0         3          1  1080       124.91   \n",
      "25   Santa Maria-Orcutt   250000.0         4          3  2000       125.00   \n",
      "26                 Rare   950000.0         3          4  1920       494.79   \n",
      "27   Santa Maria-Orcutt   239950.0         4          2  1348       178.00   \n",
      "28   Santa Maria-Orcutt   170000.0         3          2  1280       132.81   \n",
      "29   Santa Maria-Orcutt   285000.0         3          2  2400       118.75   \n",
      "..                  ...        ...       ...        ...   ...          ...   \n",
      "751                Rare   509000.0         3          2  1543       329.88   \n",
      "752                Rare   214900.0         2          2  1351       159.07   \n",
      "753                Rare  5499000.0         4          5  5060      1086.76   \n",
      "754                Rare   349900.0         3          2  2000       174.95   \n",
      "755                Rare   125000.0         2          2  1536        81.38   \n",
      "756                Rare   549000.0         2          2   924       594.16   \n",
      "757                Rare   865000.0         3          3  1860       465.05   \n",
      "758                Rare  1600000.0         3          3  2640       606.06   \n",
      "759                Rare  1065000.0         4          4  3395       313.70   \n",
      "760                Rare   625000.0         3          2  1850       337.84   \n",
      "761                Rare   249999.0         3          2  1000       250.00   \n",
      "762                Rare   975000.0         4          3  2720       358.46   \n",
      "763                Rare   204900.0         2          1   992       206.55   \n",
      "764                Rare   355000.0         3          2  1737       204.38   \n",
      "765                Rare   134900.0         3          3  1435        94.01   \n",
      "766  Santa Maria-Orcutt   199900.0         5          3  1671       119.63   \n",
      "767  Santa Maria-Orcutt   349900.0         4          3  2800       124.96   \n",
      "768  Santa Maria-Orcutt    99000.0         2          2   900       110.00   \n",
      "769                Rare   409000.0         4          3  2507       163.14   \n",
      "770                Rare   339000.0         2          2  1440       235.42   \n",
      "771                Rare   595000.0         3          3  2238       265.86   \n",
      "772                Rare   849500.0         3          3  2725       311.74   \n",
      "773                Rare   399000.0         2          3  1772       225.17   \n",
      "774                Rare   399000.0         4          2  1947       204.93   \n",
      "775                Rare   525000.0         3          2  1720       305.23   \n",
      "776                Rare   319900.0         3          3  1605       199.31   \n",
      "777                Rare   495000.0         3          2  1877       263.72   \n",
      "778                Rare   372000.0         3          2  1104       336.96   \n",
      "779                Rare   589000.0         3          2  1975       298.23   \n",
      "780                Rare  1100000.0         3          3  2392       459.87   \n",
      "\n",
      "     Status_Foreclosure  Status_Regular  Status_Short Sale              Labels  \n",
      "0                     0               0                  1  Santa Maria-Orcutt  \n",
      "1                     0               0                  1  Santa Maria-Orcutt  \n",
      "2                     0               0                  1  Santa Maria-Orcutt  \n",
      "3                     0               0                  1  Santa Maria-Orcutt  \n",
      "4                     0               0                  1  Santa Maria-Orcutt  \n",
      "5                     0               0                  1  Santa Maria-Orcutt  \n",
      "6                     0               0                  1  Santa Maria-Orcutt  \n",
      "7                     0               0                  1  Santa Maria-Orcutt  \n",
      "8                     0               0                  1  Santa Maria-Orcutt  \n",
      "9                     0               0                  1  Santa Maria-Orcutt  \n",
      "10                    0               0                  1  Santa Maria-Orcutt  \n",
      "11                    0               0                  1  Santa Maria-Orcutt  \n",
      "12                    0               0                  1  Santa Maria-Orcutt  \n",
      "13                    0               0                  1  Santa Maria-Orcutt  \n",
      "14                    0               0                  1  Santa Maria-Orcutt  \n",
      "15                    0               0                  1  Santa Maria-Orcutt  \n",
      "16                    0               0                  1  Santa Maria-Orcutt  \n",
      "17                    0               0                  1  Santa Maria-Orcutt  \n",
      "18                    0               0                  1  Santa Maria-Orcutt  \n",
      "19                    0               0                  1  Santa Maria-Orcutt  \n",
      "20                    0               0                  1  Santa Maria-Orcutt  \n",
      "21                    0               0                  1  Santa Maria-Orcutt  \n",
      "22                    0               0                  1  Santa Maria-Orcutt  \n",
      "23                    0               0                  1  Santa Maria-Orcutt  \n",
      "24                    0               0                  1  Santa Maria-Orcutt  \n",
      "25                    0               0                  1  Santa Maria-Orcutt  \n",
      "26                    0               0                  1  Santa Maria-Orcutt  \n",
      "27                    0               0                  1  Santa Maria-Orcutt  \n",
      "28                    0               0                  1  Santa Maria-Orcutt  \n",
      "29                    0               0                  1  Santa Maria-Orcutt  \n",
      "..                  ...             ...                ...                 ...  \n",
      "751                   0               1                  0         Paso Robles  \n",
      "752                   0               1                  0         Paso Robles  \n",
      "753                   0               1                  0         Paso Robles  \n",
      "754                   0               1                  0         Paso Robles  \n",
      "755                   0               1                  0         Paso Robles  \n",
      "756                   0               0                  1  Santa Maria-Orcutt  \n",
      "757                   0               1                  0         Paso Robles  \n",
      "758                   0               1                  0         Paso Robles  \n",
      "759                   0               1                  0         Paso Robles  \n",
      "760                   1               0                  0          Atascadero  \n",
      "761                   0               1                  0         Paso Robles  \n",
      "762                   0               1                  0         Paso Robles  \n",
      "763                   0               0                  1  Santa Maria-Orcutt  \n",
      "764                   0               1                  0         Paso Robles  \n",
      "765                   0               1                  0         Paso Robles  \n",
      "766                   0               0                  1  Santa Maria-Orcutt  \n",
      "767                   0               0                  1  Santa Maria-Orcutt  \n",
      "768                   1               0                  0          Atascadero  \n",
      "769                   0               0                  1  Santa Maria-Orcutt  \n",
      "770                   0               1                  0         Paso Robles  \n",
      "771                   0               1                  0         Paso Robles  \n",
      "772                   0               1                  0         Paso Robles  \n",
      "773                   0               1                  0         Paso Robles  \n",
      "774                   0               1                  0         Paso Robles  \n",
      "775                   0               1                  0         Paso Robles  \n",
      "776                   0               1                  0         Paso Robles  \n",
      "777                   0               1                  0         Paso Robles  \n",
      "778                   1               0                  0          Atascadero  \n",
      "779                   0               1                  0         Paso Robles  \n",
      "780                   0               1                  0         Paso Robles  \n",
      "\n",
      "[781 rows x 10 columns]\n"
     ]
    }
   ],
   "source": [
    "print data"
   ]
  },
  {
   "cell_type": "code",
   "execution_count": 98,
   "metadata": {},
   "outputs": [],
   "source": [
    "data['Correct'] = (data['Location']==data['Labels'])"
   ]
  },
  {
   "cell_type": "code",
   "execution_count": 99,
   "metadata": {},
   "outputs": [
    {
     "name": "stdout",
     "output_type": "stream",
     "text": [
      "0      False\n",
      "1      False\n",
      "2      False\n",
      "3      False\n",
      "4       True\n",
      "5      False\n",
      "6       True\n",
      "7       True\n",
      "8      False\n",
      "9      False\n",
      "10      True\n",
      "11      True\n",
      "12     False\n",
      "13      True\n",
      "14      True\n",
      "15     False\n",
      "16     False\n",
      "17     False\n",
      "18     False\n",
      "19     False\n",
      "20     False\n",
      "21     False\n",
      "22      True\n",
      "23      True\n",
      "24      True\n",
      "25      True\n",
      "26     False\n",
      "27      True\n",
      "28      True\n",
      "29      True\n",
      "       ...  \n",
      "751    False\n",
      "752    False\n",
      "753    False\n",
      "754    False\n",
      "755    False\n",
      "756    False\n",
      "757    False\n",
      "758    False\n",
      "759    False\n",
      "760    False\n",
      "761    False\n",
      "762    False\n",
      "763    False\n",
      "764    False\n",
      "765    False\n",
      "766     True\n",
      "767     True\n",
      "768    False\n",
      "769    False\n",
      "770    False\n",
      "771    False\n",
      "772    False\n",
      "773    False\n",
      "774    False\n",
      "775    False\n",
      "776    False\n",
      "777    False\n",
      "778    False\n",
      "779    False\n",
      "780    False\n",
      "Name: Correct, Length: 781, dtype: bool\n"
     ]
    }
   ],
   "source": [
    "print data['Correct']"
   ]
  },
  {
   "cell_type": "code",
   "execution_count": 100,
   "metadata": {},
   "outputs": [
    {
     "name": "stdout",
     "output_type": "stream",
     "text": [
      "False    557\n",
      "True     224\n",
      "Name: Correct, dtype: int64\n"
     ]
    }
   ],
   "source": [
    "print data['Correct'].value_counts()\n"
   ]
  },
  {
   "cell_type": "code",
   "execution_count": 101,
   "metadata": {},
   "outputs": [
    {
     "name": "stdout",
     "output_type": "stream",
     "text": [
      "               Location              Labels\n",
      "0                  Rare  Santa Maria-Orcutt\n",
      "1           Paso Robles  Santa Maria-Orcutt\n",
      "2           Paso Robles  Santa Maria-Orcutt\n",
      "3                  Rare  Santa Maria-Orcutt\n",
      "4    Santa Maria-Orcutt  Santa Maria-Orcutt\n",
      "5                  Rare  Santa Maria-Orcutt\n",
      "6    Santa Maria-Orcutt  Santa Maria-Orcutt\n",
      "7    Santa Maria-Orcutt  Santa Maria-Orcutt\n",
      "8                  Rare  Santa Maria-Orcutt\n",
      "9                  Rare  Santa Maria-Orcutt\n",
      "10   Santa Maria-Orcutt  Santa Maria-Orcutt\n",
      "11   Santa Maria-Orcutt  Santa Maria-Orcutt\n",
      "12                 Rare  Santa Maria-Orcutt\n",
      "13   Santa Maria-Orcutt  Santa Maria-Orcutt\n",
      "14   Santa Maria-Orcutt  Santa Maria-Orcutt\n",
      "15          Paso Robles  Santa Maria-Orcutt\n",
      "16                 Rare  Santa Maria-Orcutt\n",
      "17                 Rare  Santa Maria-Orcutt\n",
      "18          Paso Robles  Santa Maria-Orcutt\n",
      "19                 Rare  Santa Maria-Orcutt\n",
      "20                 Rare  Santa Maria-Orcutt\n",
      "21                 Rare  Santa Maria-Orcutt\n",
      "22   Santa Maria-Orcutt  Santa Maria-Orcutt\n",
      "23   Santa Maria-Orcutt  Santa Maria-Orcutt\n",
      "24   Santa Maria-Orcutt  Santa Maria-Orcutt\n",
      "25   Santa Maria-Orcutt  Santa Maria-Orcutt\n",
      "26                 Rare  Santa Maria-Orcutt\n",
      "27   Santa Maria-Orcutt  Santa Maria-Orcutt\n",
      "28   Santa Maria-Orcutt  Santa Maria-Orcutt\n",
      "29   Santa Maria-Orcutt  Santa Maria-Orcutt\n",
      "..                  ...                 ...\n",
      "751                Rare         Paso Robles\n",
      "752                Rare         Paso Robles\n",
      "753                Rare         Paso Robles\n",
      "754                Rare         Paso Robles\n",
      "755                Rare         Paso Robles\n",
      "756                Rare  Santa Maria-Orcutt\n",
      "757                Rare         Paso Robles\n",
      "758                Rare         Paso Robles\n",
      "759                Rare         Paso Robles\n",
      "760                Rare          Atascadero\n",
      "761                Rare         Paso Robles\n",
      "762                Rare         Paso Robles\n",
      "763                Rare  Santa Maria-Orcutt\n",
      "764                Rare         Paso Robles\n",
      "765                Rare         Paso Robles\n",
      "766  Santa Maria-Orcutt  Santa Maria-Orcutt\n",
      "767  Santa Maria-Orcutt  Santa Maria-Orcutt\n",
      "768  Santa Maria-Orcutt          Atascadero\n",
      "769                Rare  Santa Maria-Orcutt\n",
      "770                Rare         Paso Robles\n",
      "771                Rare         Paso Robles\n",
      "772                Rare         Paso Robles\n",
      "773                Rare         Paso Robles\n",
      "774                Rare         Paso Robles\n",
      "775                Rare         Paso Robles\n",
      "776                Rare         Paso Robles\n",
      "777                Rare         Paso Robles\n",
      "778                Rare          Atascadero\n",
      "779                Rare         Paso Robles\n",
      "780                Rare         Paso Robles\n",
      "\n",
      "[781 rows x 2 columns]\n"
     ]
    }
   ],
   "source": [
    "print data[['Location','Labels']]"
   ]
  },
  {
   "cell_type": "code",
   "execution_count": null,
   "metadata": {
    "collapsed": true
   },
   "outputs": [],
   "source": []
  },
  {
   "cell_type": "code",
   "execution_count": null,
   "metadata": {
    "collapsed": true
   },
   "outputs": [],
   "source": []
  },
  {
   "cell_type": "code",
   "execution_count": null,
   "metadata": {
    "collapsed": true
   },
   "outputs": [],
   "source": []
  },
  {
   "cell_type": "code",
   "execution_count": null,
   "metadata": {
    "collapsed": true
   },
   "outputs": [],
   "source": []
  }
 ],
 "metadata": {
  "kernelspec": {
   "display_name": "Python 2",
   "language": "python",
   "name": "python2"
  },
  "language_info": {
   "codemirror_mode": {
    "name": "ipython",
    "version": 2
   },
   "file_extension": ".py",
   "mimetype": "text/x-python",
   "name": "python",
   "nbconvert_exporter": "python",
   "pygments_lexer": "ipython2",
   "version": "2.7.13"
  }
 },
 "nbformat": 4,
 "nbformat_minor": 2
}
