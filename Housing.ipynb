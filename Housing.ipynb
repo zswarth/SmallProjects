{
 "cells": [
  {
   "cell_type": "code",
   "execution_count": 56,
   "metadata": {},
   "outputs": [],
   "source": [
    "import numpy as np\n",
    "import pandas as pd\n",
    "\n",
    "data = pd.read_csv('RealEstate.csv')"
   ]
  },
  {
   "cell_type": "code",
   "execution_count": 57,
   "metadata": {},
   "outputs": [
    {
     "name": "stdout",
     "output_type": "stream",
     "text": [
      "      MLS            Location     Price  Bedrooms  Bathrooms  Size  \\\n",
      "0  132842       Arroyo Grande  795000.0         3          3  2371   \n",
      "1  134364         Paso Robles  399000.0         4          3  2818   \n",
      "2  135141         Paso Robles  545000.0         4          3  3032   \n",
      "3  135712           Morro Bay  909000.0         4          4  3540   \n",
      "4  136282  Santa Maria-Orcutt  109900.0         3          1  1249   \n",
      "\n",
      "   Price/SQ.Ft      Status  \n",
      "0       335.30  Short Sale  \n",
      "1       141.59  Short Sale  \n",
      "2       179.75  Short Sale  \n",
      "3       256.78  Short Sale  \n",
      "4        87.99  Short Sale  \n"
     ]
    }
   ],
   "source": [
    "print data.head()"
   ]
  },
  {
   "cell_type": "code",
   "execution_count": 58,
   "metadata": {},
   "outputs": [
    {
     "data": {
      "text/plain": [
       "MLS            781\n",
       "Location       781\n",
       "Price          781\n",
       "Bedrooms       781\n",
       "Bathrooms      781\n",
       "Size           781\n",
       "Price/SQ.Ft    781\n",
       "Status         781\n",
       "dtype: int64"
      ]
     },
     "execution_count": 58,
     "metadata": {},
     "output_type": "execute_result"
    }
   ],
   "source": [
    "data.apply(lambda x: x.count(), axis=0)\n"
   ]
  },
  {
   "cell_type": "code",
   "execution_count": 59,
   "metadata": {},
   "outputs": [
    {
     "data": {
      "text/plain": [
       "Santa Maria-Orcutt     265\n",
       "Paso Robles             85\n",
       "Atascadero              58\n",
       "Nipomo                  34\n",
       "Arroyo Grande           28\n",
       "Lompoc                  26\n",
       "Los Osos                21\n",
       "Grover Beach            20\n",
       " Paso Robles            15\n",
       "San Miguel              14\n",
       "San Luis Obispo         14\n",
       " Santa Maria-Orcutt     13\n",
       "Morro Bay               13\n",
       " Cambria                12\n",
       " Arroyo Grande          12\n",
       "Pismo Beach             12\n",
       "Buellton                12\n",
       "Templeton               11\n",
       "Oceano                  10\n",
       " Atascadero             10\n",
       "Cambria                  9\n",
       " Pismo Beach             8\n",
       "Solvang                  8\n",
       "Coalinga                 7\n",
       " Los Osos                6\n",
       "Santa Ynez               5\n",
       " Morro Bay               4\n",
       "Guadalupe                4\n",
       "Avila Beach              3\n",
       " San Luis Obispo         3\n",
       "Bradley                  3\n",
       "Out Of Area              3\n",
       " Nipomo                  3\n",
       "Soledad                  3\n",
       "Los Alamos               3\n",
       "King City                3\n",
       " Grover Beach            2\n",
       " Solvang                 2\n",
       " Cayucos                 2\n",
       " Templeton               1\n",
       "Lockwood                 1\n",
       " Oceano                  1\n",
       " Out Of Area             1\n",
       "Santa Margarita          1\n",
       "Creston                  1\n",
       " Bradley                 1\n",
       "Greenfield               1\n",
       "Cayucos                  1\n",
       " San Miguel              1\n",
       "New Cuyama               1\n",
       "San Simeon               1\n",
       " Creston                 1\n",
       "Bakersfield              1\n",
       " Lompoc                  1\n",
       "Name: Location, dtype: int64"
      ]
     },
     "execution_count": 59,
     "metadata": {},
     "output_type": "execute_result"
    }
   ],
   "source": [
    "data['Location'].value_counts()"
   ]
  },
  {
   "cell_type": "code",
   "execution_count": 60,
   "metadata": {},
   "outputs": [],
   "source": [
    "a = data['Location'].value_counts()"
   ]
  },
  {
   "cell_type": "code",
   "execution_count": 66,
   "metadata": {},
   "outputs": [
    {
     "name": "stderr",
     "output_type": "stream",
     "text": [
      "/usr/local/lib/python2.7/site-packages/ipykernel_launcher.py:3: SettingWithCopyWarning: \n",
      "A value is trying to be set on a copy of a slice from a DataFrame\n",
      "\n",
      "See the caveats in the documentation: http://pandas.pydata.org/pandas-docs/stable/indexing.html#indexing-view-versus-copy\n",
      "  This is separate from the ipykernel package so we can avoid doing imports until\n"
     ]
    }
   ],
   "source": [
    "for i in range(0,len(data.index)):\n",
    "    if data['Location'][i] not in a[0:3]:\n",
    "        data['Location'][i] = 'Rare'"
   ]
  },
  {
   "cell_type": "code",
   "execution_count": 67,
   "metadata": {},
   "outputs": [
    {
     "name": "stdout",
     "output_type": "stream",
     "text": [
      "0                    Rare\n",
      "1             Paso Robles\n",
      "2             Paso Robles\n",
      "3                    Rare\n",
      "4      Santa Maria-Orcutt\n",
      "5                    Rare\n",
      "6      Santa Maria-Orcutt\n",
      "7      Santa Maria-Orcutt\n",
      "8                    Rare\n",
      "9                    Rare\n",
      "10     Santa Maria-Orcutt\n",
      "11     Santa Maria-Orcutt\n",
      "12                   Rare\n",
      "13     Santa Maria-Orcutt\n",
      "14     Santa Maria-Orcutt\n",
      "15            Paso Robles\n",
      "16                   Rare\n",
      "17                   Rare\n",
      "18            Paso Robles\n",
      "19                   Rare\n",
      "20                   Rare\n",
      "21                   Rare\n",
      "22     Santa Maria-Orcutt\n",
      "23     Santa Maria-Orcutt\n",
      "24     Santa Maria-Orcutt\n",
      "25     Santa Maria-Orcutt\n",
      "26                   Rare\n",
      "27     Santa Maria-Orcutt\n",
      "28     Santa Maria-Orcutt\n",
      "29     Santa Maria-Orcutt\n",
      "              ...        \n",
      "751                  Rare\n",
      "752                  Rare\n",
      "753                  Rare\n",
      "754                  Rare\n",
      "755                  Rare\n",
      "756                  Rare\n",
      "757                  Rare\n",
      "758                  Rare\n",
      "759                  Rare\n",
      "760                  Rare\n",
      "761                  Rare\n",
      "762                  Rare\n",
      "763                  Rare\n",
      "764                  Rare\n",
      "765                  Rare\n",
      "766    Santa Maria-Orcutt\n",
      "767    Santa Maria-Orcutt\n",
      "768    Santa Maria-Orcutt\n",
      "769                  Rare\n",
      "770                  Rare\n",
      "771                  Rare\n",
      "772                  Rare\n",
      "773                  Rare\n",
      "774                  Rare\n",
      "775                  Rare\n",
      "776                  Rare\n",
      "777                  Rare\n",
      "778                  Rare\n",
      "779                  Rare\n",
      "780                  Rare\n",
      "Name: Location, dtype: object\n"
     ]
    }
   ],
   "source": [
    "print data['Location']"
   ]
  },
  {
   "cell_type": "code",
   "execution_count": 68,
   "metadata": {},
   "outputs": [
    {
     "data": {
      "text/plain": [
       "Rare                  431\n",
       "Santa Maria-Orcutt    265\n",
       "Paso Robles            85\n",
       "Name: Location, dtype: int64"
      ]
     },
     "execution_count": 68,
     "metadata": {},
     "output_type": "execute_result"
    }
   ],
   "source": [
    "data['Location'].value_counts()"
   ]
  },
  {
   "cell_type": "code",
   "execution_count": 69,
   "metadata": {},
   "outputs": [],
   "source": [
    "from sklearn import preprocessing\n"
   ]
  },
  {
   "cell_type": "code",
   "execution_count": 70,
   "metadata": {},
   "outputs": [],
   "source": [
    "scaler = preprocessing.MinMaxScaler()"
   ]
  },
  {
   "cell_type": "code",
   "execution_count": 71,
   "metadata": {},
   "outputs": [
    {
     "ename": "ValueError",
     "evalue": "could not convert string to float: Regular",
     "output_type": "error",
     "traceback": [
      "\u001b[0;31m---------------------------------------------------------------------------\u001b[0m",
      "\u001b[0;31mValueError\u001b[0m                                Traceback (most recent call last)",
      "\u001b[0;32m<ipython-input-71-8d094b340d45>\u001b[0m in \u001b[0;36m<module>\u001b[0;34m()\u001b[0m\n\u001b[0;32m----> 1\u001b[0;31m \u001b[0mdata_scaled\u001b[0m \u001b[0;34m=\u001b[0m \u001b[0mscaler\u001b[0m\u001b[0;34m.\u001b[0m\u001b[0mfit_transform\u001b[0m\u001b[0;34m(\u001b[0m\u001b[0mdata\u001b[0m\u001b[0;34m)\u001b[0m\u001b[0;34m\u001b[0m\u001b[0m\n\u001b[0m",
      "\u001b[0;32m/usr/local/lib/python2.7/site-packages/sklearn/base.pyc\u001b[0m in \u001b[0;36mfit_transform\u001b[0;34m(self, X, y, **fit_params)\u001b[0m\n\u001b[1;32m    515\u001b[0m         \u001b[0;32mif\u001b[0m \u001b[0my\u001b[0m \u001b[0;32mis\u001b[0m \u001b[0mNone\u001b[0m\u001b[0;34m:\u001b[0m\u001b[0;34m\u001b[0m\u001b[0m\n\u001b[1;32m    516\u001b[0m             \u001b[0;31m# fit method of arity 1 (unsupervised transformation)\u001b[0m\u001b[0;34m\u001b[0m\u001b[0;34m\u001b[0m\u001b[0m\n\u001b[0;32m--> 517\u001b[0;31m             \u001b[0;32mreturn\u001b[0m \u001b[0mself\u001b[0m\u001b[0;34m.\u001b[0m\u001b[0mfit\u001b[0m\u001b[0;34m(\u001b[0m\u001b[0mX\u001b[0m\u001b[0;34m,\u001b[0m \u001b[0;34m**\u001b[0m\u001b[0mfit_params\u001b[0m\u001b[0;34m)\u001b[0m\u001b[0;34m.\u001b[0m\u001b[0mtransform\u001b[0m\u001b[0;34m(\u001b[0m\u001b[0mX\u001b[0m\u001b[0;34m)\u001b[0m\u001b[0;34m\u001b[0m\u001b[0m\n\u001b[0m\u001b[1;32m    518\u001b[0m         \u001b[0;32melse\u001b[0m\u001b[0;34m:\u001b[0m\u001b[0;34m\u001b[0m\u001b[0m\n\u001b[1;32m    519\u001b[0m             \u001b[0;31m# fit method of arity 2 (supervised transformation)\u001b[0m\u001b[0;34m\u001b[0m\u001b[0;34m\u001b[0m\u001b[0m\n",
      "\u001b[0;32m/usr/local/lib/python2.7/site-packages/sklearn/preprocessing/data.pyc\u001b[0m in \u001b[0;36mfit\u001b[0;34m(self, X, y)\u001b[0m\n\u001b[1;32m    306\u001b[0m         \u001b[0;31m# Reset internal state before fitting\u001b[0m\u001b[0;34m\u001b[0m\u001b[0;34m\u001b[0m\u001b[0m\n\u001b[1;32m    307\u001b[0m         \u001b[0mself\u001b[0m\u001b[0;34m.\u001b[0m\u001b[0m_reset\u001b[0m\u001b[0;34m(\u001b[0m\u001b[0;34m)\u001b[0m\u001b[0;34m\u001b[0m\u001b[0m\n\u001b[0;32m--> 308\u001b[0;31m         \u001b[0;32mreturn\u001b[0m \u001b[0mself\u001b[0m\u001b[0;34m.\u001b[0m\u001b[0mpartial_fit\u001b[0m\u001b[0;34m(\u001b[0m\u001b[0mX\u001b[0m\u001b[0;34m,\u001b[0m \u001b[0my\u001b[0m\u001b[0;34m)\u001b[0m\u001b[0;34m\u001b[0m\u001b[0m\n\u001b[0m\u001b[1;32m    309\u001b[0m \u001b[0;34m\u001b[0m\u001b[0m\n\u001b[1;32m    310\u001b[0m     \u001b[0;32mdef\u001b[0m \u001b[0mpartial_fit\u001b[0m\u001b[0;34m(\u001b[0m\u001b[0mself\u001b[0m\u001b[0;34m,\u001b[0m \u001b[0mX\u001b[0m\u001b[0;34m,\u001b[0m \u001b[0my\u001b[0m\u001b[0;34m=\u001b[0m\u001b[0mNone\u001b[0m\u001b[0;34m)\u001b[0m\u001b[0;34m:\u001b[0m\u001b[0;34m\u001b[0m\u001b[0m\n",
      "\u001b[0;32m/usr/local/lib/python2.7/site-packages/sklearn/preprocessing/data.pyc\u001b[0m in \u001b[0;36mpartial_fit\u001b[0;34m(self, X, y)\u001b[0m\n\u001b[1;32m    332\u001b[0m \u001b[0;34m\u001b[0m\u001b[0m\n\u001b[1;32m    333\u001b[0m         X = check_array(X, copy=self.copy, warn_on_dtype=True,\n\u001b[0;32m--> 334\u001b[0;31m                         estimator=self, dtype=FLOAT_DTYPES)\n\u001b[0m\u001b[1;32m    335\u001b[0m \u001b[0;34m\u001b[0m\u001b[0m\n\u001b[1;32m    336\u001b[0m         \u001b[0mdata_min\u001b[0m \u001b[0;34m=\u001b[0m \u001b[0mnp\u001b[0m\u001b[0;34m.\u001b[0m\u001b[0mmin\u001b[0m\u001b[0;34m(\u001b[0m\u001b[0mX\u001b[0m\u001b[0;34m,\u001b[0m \u001b[0maxis\u001b[0m\u001b[0;34m=\u001b[0m\u001b[0;36m0\u001b[0m\u001b[0;34m)\u001b[0m\u001b[0;34m\u001b[0m\u001b[0m\n",
      "\u001b[0;32m/usr/local/lib/python2.7/site-packages/sklearn/utils/validation.pyc\u001b[0m in \u001b[0;36mcheck_array\u001b[0;34m(array, accept_sparse, dtype, order, copy, force_all_finite, ensure_2d, allow_nd, ensure_min_samples, ensure_min_features, warn_on_dtype, estimator)\u001b[0m\n\u001b[1;32m    431\u001b[0m                                       force_all_finite)\n\u001b[1;32m    432\u001b[0m     \u001b[0;32melse\u001b[0m\u001b[0;34m:\u001b[0m\u001b[0;34m\u001b[0m\u001b[0m\n\u001b[0;32m--> 433\u001b[0;31m         \u001b[0marray\u001b[0m \u001b[0;34m=\u001b[0m \u001b[0mnp\u001b[0m\u001b[0;34m.\u001b[0m\u001b[0marray\u001b[0m\u001b[0;34m(\u001b[0m\u001b[0marray\u001b[0m\u001b[0;34m,\u001b[0m \u001b[0mdtype\u001b[0m\u001b[0;34m=\u001b[0m\u001b[0mdtype\u001b[0m\u001b[0;34m,\u001b[0m \u001b[0morder\u001b[0m\u001b[0;34m=\u001b[0m\u001b[0morder\u001b[0m\u001b[0;34m,\u001b[0m \u001b[0mcopy\u001b[0m\u001b[0;34m=\u001b[0m\u001b[0mcopy\u001b[0m\u001b[0;34m)\u001b[0m\u001b[0;34m\u001b[0m\u001b[0m\n\u001b[0m\u001b[1;32m    434\u001b[0m \u001b[0;34m\u001b[0m\u001b[0m\n\u001b[1;32m    435\u001b[0m         \u001b[0;32mif\u001b[0m \u001b[0mensure_2d\u001b[0m\u001b[0;34m:\u001b[0m\u001b[0;34m\u001b[0m\u001b[0m\n",
      "\u001b[0;31mValueError\u001b[0m: could not convert string to float: Regular"
     ]
    }
   ],
   "source": [
    "data_scaled = scaler.fit_transform(data)"
   ]
  },
  {
   "cell_type": "code",
   "execution_count": null,
   "metadata": {},
   "outputs": [],
   "source": []
  }
 ],
 "metadata": {
  "kernelspec": {
   "display_name": "Python 2",
   "language": "python",
   "name": "python2"
  },
  "language_info": {
   "codemirror_mode": {
    "name": "ipython",
    "version": 2
   },
   "file_extension": ".py",
   "mimetype": "text/x-python",
   "name": "python",
   "nbconvert_exporter": "python",
   "pygments_lexer": "ipython2",
   "version": "2.7.13"
  }
 },
 "nbformat": 4,
 "nbformat_minor": 2
}
