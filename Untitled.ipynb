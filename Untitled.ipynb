{
 "cells": [
  {
   "cell_type": "code",
   "execution_count": 1,
   "metadata": {},
   "outputs": [
    {
     "data": {
      "text/plain": [
       "<matplotlib.figure.Figure at 0x106d30290>"
      ]
     },
     "metadata": {},
     "output_type": "display_data"
    }
   ],
   "source": [
    "from numpy import genfromtxt\n",
    "import matplotlib.pyplot as plt\n",
    "from random import randrange\n",
    "import numpy as np\n",
    "\n",
    "\n",
    "\n",
    "iris = np.genfromtxt('iris.csv', dtype=str, delimiter = ',')\n",
    "iris_data = np.asarray(iris[1:,0:4], dtype=float)\n",
    "iris_labels = iris[1:,4]\n",
    "\n",
    "plt.scatter(iris_data[0:50,0], iris_data[0:50,1], color = 'red')\n",
    "plt.scatter(iris_data[50:100,0], iris_data[50:100,1], color = 'red')\n",
    "plt.scatter(iris_data[100:150,0], iris_data[100:150,1], color = 'red')\n",
    "\n",
    "plt.show()\n",
    "\n"
   ]
  },
  {
   "cell_type": "code",
   "execution_count": 2,
   "metadata": {},
   "outputs": [],
   "source": [
    "%matplotlib inline \n"
   ]
  },
  {
   "cell_type": "code",
   "execution_count": 25,
   "metadata": {},
   "outputs": [
    {
     "data": {
      "image/png": "[encoded data removed]",
      "text/plain": [
       "<matplotlib.figure.Figure at 0x107c231d0>"
      ]
     },
     "metadata": {},
     "output_type": "display_data"
    }
   ],
   "source": [
    "from numpy import genfromtxt\n",
    "import matplotlib.pyplot as plt\n",
    "from random import randrange\n",
    "import numpy as np\n",
    "\n",
    "\n",
    "\n",
    "iris = np.genfromtxt('iris.csv', dtype=str, delimiter = ',')\n",
    "iris_data = np.asarray(iris[1:,0:4], dtype=float)\n",
    "iris_labels = iris[1:,4]\n",
    "\n",
    "plt.scatter(iris_data[0:50,0], iris_data[0:50,1], color = 'red')\n",
    "plt.scatter(iris_data[50:100,0], iris_data[50:100,1], color = 'blue')\n",
    "\n",
    "plt.show()\n",
    "\n"
   ]
  },
  {
   "cell_type": "code",
   "execution_count": 4,
   "metadata": {},
   "outputs": [
    {
     "data": {
      "image/png": "[encoded data removed]",
      "text/plain": [
       "<matplotlib.figure.Figure at 0x107b08910>"
      ]
     },
     "metadata": {},
     "output_type": "display_data"
    }
   ],
   "source": [
    "\n",
    "plt.scatter(iris_data[0:50,2], iris_data[0:50,3], color = 'red')\n",
    "plt.scatter(iris_data[50:100,2], iris_data[50:100,3], color = 'blue')\n",
    "plt.scatter(iris_data[100:150,2], iris_data[100:150,3], color = 'green')\n",
    "plt.show()"
   ]
  },
  {
   "cell_type": "code",
   "execution_count": 100,
   "metadata": {},
   "outputs": [
    {
     "name": "stdout",
     "output_type": "stream",
     "text": [
      "[1 1 1 1 1 1 1 1 1 1 1 1 1 1 1 1 1 1 1 1 1 1 1 1 1 1 1 1 1 1 1 1 1 1 1 1 1\n",
      " 1 1 1 1 2 1 1 1 1 1 1 1 1 0 0 0 0 0 0 0 0 0 0 0 0 0 0 0 0 0 0 0 0 0 0 0 0\n",
      " 0 0 0 0 0 0 0 0 0 0 0 0 0 0 0 0 0 0 0 0 0 0 0 0 0 0 0 0 0 0 0 0 0 0 0 0 0\n",
      " 0 0 0 0 0 0 0 0 0 0 0 0 0 0 0 0 0 0 0 0 0 0 0 0 0 0 0 0 0 0 0 0 0 0 0 0 0\n",
      " 0 0]\n"
     ]
    }
   ],
   "source": [
    "\n",
    "\n",
    "\n",
    "#The Iris data set with 3 labels is very difficult to classifiy with clustering.  We'll go back to this\n",
    "#when i work on supervisted learning.  The iris-Versicolor and the Iris-Virginica have signifigant overlap that is hard to cluster\n",
    "\n",
    "#We're only looking at the first two attributes in these graphs\n",
    "#Sepal Lenght and Sepal Width\n",
    "\n",
    "# plt.scatter(iris_data[0:50,2], iris_data[0:50,3], color = 'red')\n",
    "# plt.scatter(iris_data[50:100,2], iris_data[50:100,3], color = 'blue')\n",
    "# plt.scatter(iris_data[100:150,2], iris_data[100:150,3], color = 'green')\n",
    "\n",
    "# plt.show()\n",
    "\n",
    "#Looking at other dementions, we can see that there is still overlap.\n",
    "\n",
    "#To start, lets just look at Setosa and Versicolor which are well seperated.\n",
    "\n",
    "\n",
    "#K Means is unsupervised though - we're going to group our data without any labels.\n",
    "\n",
    "# plt.scatter(iris_data[0:100,0], iris_data[0:100,1], color = 'red')\n",
    "# plt.show()\n",
    "\n",
    "#Firstly, we need to write a funtion to find the euclidian distance between any two points.\n",
    "\n",
    "def distance(point1, point2):\n",
    "\tdis = point1-point2\n",
    "\treturn (np.dot(dis, dis))**.5\n",
    "\n",
    "\n",
    "\n",
    "# # Create Arbitrary first centroid.\n",
    "## More efficient k-means clustering use more complex methods to initiate the centroid.\n",
    "\n",
    "def create_centroids(data, num_clusters = 3):\n",
    "\tcentroids = []\n",
    "\ta,b = np.shape(data)\n",
    "\tfor j in range(0, num_clusters):\n",
    "\t\ttemp = []\n",
    "\t\tfor i in range(0, b):\n",
    "\t\t\tmaxx = int(max(data[:,i]))\n",
    "\t\t\tminx = int(min(data[:,i]))\n",
    "\t\t\ttemp.append(randrange(minx, maxx))\n",
    "\t\tcentroids.append(temp)\n",
    "\treturn np.asarray(centroids)\n",
    "\n",
    "centroids = create_centroids(iris_data, num_clusters=3)\n",
    "\n",
    "# Each line of our data is going to need to be assigned a label representing the nearest centroid.\n",
    "\n",
    "def label(data, centroids):\n",
    "\tm, n = np.shape(data)\n",
    "\tlab = []\n",
    "\tfor i in range(0, m):\n",
    "\t\tdis = []\n",
    "\t\tx, y = np.shape(centroids)\n",
    "\t\tfor j in range(0,x):\n",
    "\t\t\tdis.append(distance(centroids[j,:], data[i, :]))\n",
    "\t\tlab.append(np.argmin(dis))\n",
    "\treturn np.asarray(lab)\n",
    "\n",
    "\n",
    "\n",
    "labels = label(iris_data, centroids)\n",
    "print labels\n",
    "\n",
    "\n",
    "def graph(data, labels, centroids):\n",
    "\tcolors = ['b','g','r','c','m','y','k','w']\n",
    "\tfor i in range(0, max(labels)+1):\n",
    "\t\tplt.scatter(centroids[i,0],centroids[i,1], color = colors[i+2], marker = '<', s = 150)\n",
    "\t\tfor j in range(0, len(labels)):\n",
    "\t\t\tif labels[j] == i:\n",
    "\t\t\t\tplt.scatter(data[j,0], data[j,1], color = colors[i])\n",
    "\tplt.show()\n"
   ]
  },
  {
   "cell_type": "code",
   "execution_count": 101,
   "metadata": {},
   "outputs": [
    {
     "data": {
      "image/png": "[encoded data removed]",
      "text/plain": [
       "<matplotlib.figure.Figure at 0x107f81a10>"
      ]
     },
     "metadata": {},
     "output_type": "display_data"
    }
   ],
   "source": [
    "graph(iris_data, labels, centroids)"
   ]
  },
  {
   "cell_type": "code",
   "execution_count": 89,
   "metadata": {},
   "outputs": [],
   "source": [
    "def update_centroids(data, labels, centroids):\n",
    "\tm,n = np.shape(centroids)\n",
    "\ttemp_centroid = np.zeros((m,n))\n",
    "\tcount = np.zeros((m,n))\n",
    "\tfor j in range(0, len(labels)):\n",
    "\t \tfor k in range(0, n):\n",
    "\t\t\ttemp_centroid[labels[j],k]+= data[j,k]\n",
    "\t\t\tcount[labels[j],k]+= 1\n",
    "\tfor i in range(0,m):\n",
    "\t\tfor j in range(0,n):\n",
    "\t\t\tif count[i,j] == 0:\n",
    "\t\t\t\tcount[i,j] += 1\n",
    "\treturn temp_centroid/count"
   ]
  },
  {
   "cell_type": "code",
   "execution_count": 48,
   "metadata": {},
   "outputs": [],
   "source": [
    "centroids = update_centroids(iris_data, labels, centroids)"
   ]
  },
  {
   "cell_type": "code",
   "execution_count": 49,
   "metadata": {},
   "outputs": [
    {
     "data": {
      "image/png": "[encoded data removed]",
      "text/plain": [
       "<matplotlib.figure.Figure at 0x1082f3250>"
      ]
     },
     "metadata": {},
     "output_type": "display_data"
    }
   ],
   "source": [
    "graph(iris_data, labels, centroids)"
   ]
  },
  {
   "cell_type": "code",
   "execution_count": 32,
   "metadata": {},
   "outputs": [],
   "source": [
    "entroids = update_centroids(iris_data[0:100], labels, centroids)"
   ]
  },
  {
   "cell_type": "code",
   "execution_count": 33,
   "metadata": {},
   "outputs": [
    {
     "data": {
      "image/png": "[encoded data removed]",
      "text/plain": [
       "<matplotlib.figure.Figure at 0x107a69910>"
      ]
     },
     "metadata": {},
     "output_type": "display_data"
    }
   ],
   "source": [
    "graph(iris_data[0:100], labels, centroids)"
   ]
  },
  {
   "cell_type": "code",
   "execution_count": 26,
   "metadata": {},
   "outputs": [
    {
     "name": "stdout",
     "output_type": "stream",
     "text": [
      "[[ 6.00816327  2.92857143  4.05306122  1.23673469]\n",
      " [ 4.95490196  3.25294118  1.71764706  0.35098039]]\n"
     ]
    }
   ],
   "source": [
    "print centroids"
   ]
  },
  {
   "cell_type": "code",
   "execution_count": 50,
   "metadata": {},
   "outputs": [],
   "source": [
    "\t\t\t\n",
    "\n",
    "def final_algorithm(data, n_clusters = 2, iter = 3):\n",
    "\tcentroids = create_centroids(data, num_clusters = n_clusters)\t\n",
    "\tlabels = label(data, centroids)\n",
    "\tf, ((ax1, ax2),(ax3,ax4)) = plt.subplots(2,2, sharex='col', sharey='row')\n",
    "\tgraph_axis(data, labels, centroids, ax1)\n",
    "\tplots = [ax2, ax3, ax4]\n",
    "\tfor i in plots:\n",
    "\t\tcentroids = update_centroids(data, labels, centroids)\n",
    "\t\tlabels = label(data, centroids)\n",
    "\t\tgraph_axis(data, labels, centroids, i)\n",
    "\tplt.show()\n",
    "\tfor i in range(0,iter-3):\n",
    "\t\tcentroids = update_centroids(data, labels, centroids)\n",
    "\t\tlabels = label(data, centroids)\n",
    "\treturn centroids, labels"
   ]
  },
  {
   "cell_type": "code",
   "execution_count": 51,
   "metadata": {},
   "outputs": [
    {
     "ename": "NameError",
     "evalue": "global name 'graph_axis' is not defined",
     "output_type": "error",
     "traceback": [
      "\u001b[0;31m---------------------------------------------------------------------------\u001b[0m",
      "\u001b[0;31mNameError\u001b[0m                                 Traceback (most recent call last)",
      "\u001b[0;32m<ipython-input-51-e005452b98a2>\u001b[0m in \u001b[0;36m<module>\u001b[0;34m()\u001b[0m\n\u001b[0;32m----> 1\u001b[0;31m \u001b[0mfinal_algorithm\u001b[0m\u001b[0;34m(\u001b[0m\u001b[0miris_data\u001b[0m\u001b[0;34m)\u001b[0m\u001b[0;34m\u001b[0m\u001b[0m\n\u001b[0m",
      "\u001b[0;32m<ipython-input-50-e86cd8a824bf>\u001b[0m in \u001b[0;36mfinal_algorithm\u001b[0;34m(data, n_clusters, iter)\u001b[0m\n\u001b[1;32m      5\u001b[0m         \u001b[0mlabels\u001b[0m \u001b[0;34m=\u001b[0m \u001b[0mlabel\u001b[0m\u001b[0;34m(\u001b[0m\u001b[0mdata\u001b[0m\u001b[0;34m,\u001b[0m \u001b[0mcentroids\u001b[0m\u001b[0;34m)\u001b[0m\u001b[0;34m\u001b[0m\u001b[0m\n\u001b[1;32m      6\u001b[0m         \u001b[0mf\u001b[0m\u001b[0;34m,\u001b[0m \u001b[0;34m(\u001b[0m\u001b[0;34m(\u001b[0m\u001b[0max1\u001b[0m\u001b[0;34m,\u001b[0m \u001b[0max2\u001b[0m\u001b[0;34m)\u001b[0m\u001b[0;34m,\u001b[0m\u001b[0;34m(\u001b[0m\u001b[0max3\u001b[0m\u001b[0;34m,\u001b[0m\u001b[0max4\u001b[0m\u001b[0;34m)\u001b[0m\u001b[0;34m)\u001b[0m \u001b[0;34m=\u001b[0m \u001b[0mplt\u001b[0m\u001b[0;34m.\u001b[0m\u001b[0msubplots\u001b[0m\u001b[0;34m(\u001b[0m\u001b[0;36m2\u001b[0m\u001b[0;34m,\u001b[0m\u001b[0;36m2\u001b[0m\u001b[0;34m,\u001b[0m \u001b[0msharex\u001b[0m\u001b[0;34m=\u001b[0m\u001b[0;34m'col'\u001b[0m\u001b[0;34m,\u001b[0m \u001b[0msharey\u001b[0m\u001b[0;34m=\u001b[0m\u001b[0;34m'row'\u001b[0m\u001b[0;34m)\u001b[0m\u001b[0;34m\u001b[0m\u001b[0m\n\u001b[0;32m----> 7\u001b[0;31m         \u001b[0mgraph_axis\u001b[0m\u001b[0;34m(\u001b[0m\u001b[0mdata\u001b[0m\u001b[0;34m,\u001b[0m \u001b[0mlabels\u001b[0m\u001b[0;34m,\u001b[0m \u001b[0mcentroids\u001b[0m\u001b[0;34m,\u001b[0m \u001b[0max1\u001b[0m\u001b[0;34m)\u001b[0m\u001b[0;34m\u001b[0m\u001b[0m\n\u001b[0m\u001b[1;32m      8\u001b[0m         \u001b[0mplots\u001b[0m \u001b[0;34m=\u001b[0m \u001b[0;34m[\u001b[0m\u001b[0max2\u001b[0m\u001b[0;34m,\u001b[0m \u001b[0max3\u001b[0m\u001b[0;34m,\u001b[0m \u001b[0max4\u001b[0m\u001b[0;34m]\u001b[0m\u001b[0;34m\u001b[0m\u001b[0m\n\u001b[1;32m      9\u001b[0m         \u001b[0;32mfor\u001b[0m \u001b[0mi\u001b[0m \u001b[0;32min\u001b[0m \u001b[0mplots\u001b[0m\u001b[0;34m:\u001b[0m\u001b[0;34m\u001b[0m\u001b[0m\n",
      "\u001b[0;31mNameError\u001b[0m: global name 'graph_axis' is not defined"
     ]
    },
    {
     "data": {
      "image/png": "[encoded data removed]",
      "text/plain": [
       "<matplotlib.figure.Figure at 0x1084db450>"
      ]
     },
     "metadata": {},
     "output_type": "display_data"
    }
   ],
   "source": [
    "final_algorithm(iris_data)"
   ]
  },
  {
   "cell_type": "code",
   "execution_count": 93,
   "metadata": {},
   "outputs": [],
   "source": [
    "\n",
    "def graph_axis(data, labels, centroids, axis):\n",
    "\tcolors = ['b','g','r','c','m','y','k','w']\n",
    "\tfor i in range(0, max(labels)+1):\n",
    "\t\taxis.scatter(centroids[i,0],centroids[i,1], color = colors[i+2], marker = '<', s = 150)\n",
    "\t\tfor j in range(0, len(labels)):\n",
    "\t\t\tif labels[j] == i:\n",
    "\t\t\t\taxis.scatter(data[j,0], data[j,1], color = colors[i])\n",
    "\n",
    "                "
   ]
  },
  {
   "cell_type": "code",
   "execution_count": 102,
   "metadata": {},
   "outputs": [],
   "source": [
    "def final_algorithm(data, n_clusters = 3, iter = 3):\n",
    "\tcentroids = create_centroids(data, num_clusters = n_clusters)\t\n",
    "\tlabels = label(data, centroids)\n",
    "\tf, ((ax1, ax2),(ax3,ax4)) = plt.subplots(2,2, sharex='col', sharey='row')\n",
    "\tgraph_axis(data, labels, centroids, ax1)\n",
    "\tplots = [ax2, ax3, ax4]\n",
    "\tfor i in plots:\n",
    "\t\tcentroids = update_centroids(data, labels, centroids)\n",
    "\t\tlabels = label(data, centroids)\n",
    "\t\tgraph_axis(data, labels, centroids, i)\n",
    "\tplt.show()\n",
    "\tfor i in range(0,iter-3):\n",
    "\t\tcentroids = update_centroids(data, labels, centroids)\n",
    "\t\tlabels = label(data, centroids)\n",
    "\treturn centroids, labels"
   ]
  },
  {
   "cell_type": "code",
   "execution_count": 103,
   "metadata": {},
   "outputs": [
    {
     "data": {
      "image/png": "[encoded data removed]",
      "text/plain": [
       "<matplotlib.figure.Figure at 0x1085eca10>"
      ]
     },
     "metadata": {},
     "output_type": "display_data"
    },
    {
     "data": {
      "text/plain": [
       "(array([[ 5.02916667,  3.45208333,  1.46875   ,  0.24375   ],\n",
       "        [ 6.31458333,  2.89583333,  4.97395833,  1.703125  ],\n",
       "        [ 4.81666667,  2.4       ,  2.63333333,  0.76666667]]),\n",
       " array([0, 0, 0, 0, 0, 0, 0, 0, 0, 0, 0, 0, 0, 0, 0, 0, 0, 0, 0, 0, 0, 0, 0,\n",
       "        0, 0, 0, 0, 0, 0, 0, 0, 0, 0, 0, 0, 0, 0, 0, 0, 0, 0, 0, 0, 0, 0, 0,\n",
       "        0, 0, 0, 0, 1, 1, 1, 1, 1, 1, 1, 2, 1, 2, 2, 1, 1, 1, 2, 1, 1, 1, 1,\n",
       "        1, 1, 1, 1, 1, 1, 1, 1, 1, 1, 2, 2, 2, 1, 1, 1, 1, 1, 1, 1, 1, 1, 1,\n",
       "        1, 2, 1, 1, 1, 1, 2, 1, 1, 1, 1, 1, 1, 1, 1, 1, 1, 1, 1, 1, 1, 1, 1,\n",
       "        1, 1, 1, 1, 1, 1, 1, 1, 1, 1, 1, 1, 1, 1, 1, 1, 1, 1, 1, 1, 1, 1, 1,\n",
       "        1, 1, 1, 1, 1, 1, 1, 1, 1, 1, 1, 1]))"
      ]
     },
     "execution_count": 103,
     "metadata": {},
     "output_type": "execute_result"
    }
   ],
   "source": [
    "final_algorithm(iris_data)"
   ]
  },
  {
   "cell_type": "code",
   "execution_count": null,
   "metadata": {},
   "outputs": [],
   "source": []
  },
  {
   "cell_type": "code",
   "execution_count": null,
   "metadata": {},
   "outputs": [],
   "source": []
  },
  {
   "cell_type": "code",
   "execution_count": null,
   "metadata": {},
   "outputs": [],
   "source": []
  }
 ],
 "metadata": {
  "kernelspec": {
   "display_name": "Python 2",
   "language": "python",
   "name": "python2"
  },
  "language_info": {
   "codemirror_mode": {
    "name": "ipython",
    "version": 2
   },
   "file_extension": ".py",
   "mimetype": "text/x-python",
   "name": "python",
   "nbconvert_exporter": "python",
   "pygments_lexer": "ipython2",
   "version": "2.7.13"
  }
 },
 "nbformat": 4,
 "nbformat_minor": 2
}
